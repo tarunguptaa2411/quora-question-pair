{
 "cells": [
  {
   "cell_type": "code",
   "execution_count": 98,
   "metadata": {},
   "outputs": [],
   "source": [
    "import pandas as pd\n",
    "import numpy as np\n",
    "from sklearn.model_selection import train_test_split\n",
    "from sklearn.linear_model import LogisticRegression\n",
    "from sklearn.metrics import log_loss\n",
    "from sklearn.pipeline import Pipeline\n",
    "from sklearn.preprocessing import StandardScaler\n",
    "from sklearn.model_selection import GridSearchCV\n",
    "from tqdm import tqdm\n",
    "from sklearn.metrics import accuracy_score, log_loss,confusion_matrix\n",
    "from sklearn.svm import SVC\n",
    "from sklearn.linear_model import SGDClassifier\n",
    "import seaborn as sns\n",
    "import matplotlib.pyplot as plt\n",
    "\n",
    "from sklearn.calibration import CalibratedClassifierCV\n",
    "from sklearn.naive_bayes import MultinomialNB\n",
    "from sklearn.naive_bayes import GaussianNB\n",
    "from sklearn.model_selection import train_test_split\n",
    "from sklearn.model_selection import GridSearchCV\n",
    "import math\n",
    "from sklearn.metrics import normalized_mutual_info_score\n",
    "from sklearn.ensemble import RandomForestClassifier\n",
    "from sklearn.tree import DecisionTreeClassifier\n",
    "\n",
    "\n",
    "\n",
    "from sklearn.model_selection import cross_val_score\n",
    "from sklearn.linear_model import SGDClassifier\n",
    "from sklearn.neighbors import KNeighborsClassifier\n",
    "\n",
    "from sklearn import model_selection\n",
    "from sklearn.linear_model import LogisticRegression\n",
    "from sklearn.metrics import precision_recall_curve, auc, roc_curve"
   ]
  },
  {
   "cell_type": "code",
   "execution_count": 2,
   "metadata": {},
   "outputs": [],
   "source": [
    "data = pd.read_csv('Data/data_with_vectors.csv')"
   ]
  },
  {
   "cell_type": "code",
   "execution_count": 3,
   "metadata": {},
   "outputs": [
    {
     "data": {
      "text/html": [
       "<div>\n",
       "<style scoped>\n",
       "    .dataframe tbody tr th:only-of-type {\n",
       "        vertical-align: middle;\n",
       "    }\n",
       "\n",
       "    .dataframe tbody tr th {\n",
       "        vertical-align: top;\n",
       "    }\n",
       "\n",
       "    .dataframe thead th {\n",
       "        text-align: right;\n",
       "    }\n",
       "</style>\n",
       "<table border=\"1\" class=\"dataframe\">\n",
       "  <thead>\n",
       "    <tr style=\"text-align: right;\">\n",
       "      <th></th>\n",
       "      <th>Unnamed: 0</th>\n",
       "      <th>id</th>\n",
       "      <th>qid1</th>\n",
       "      <th>qid2</th>\n",
       "      <th>question1</th>\n",
       "      <th>question2</th>\n",
       "      <th>is_duplicate</th>\n",
       "      <th>r_len</th>\n",
       "      <th>q1_words</th>\n",
       "      <th>q2_words</th>\n",
       "      <th>...</th>\n",
       "      <th>86q2</th>\n",
       "      <th>87q2</th>\n",
       "      <th>88q2</th>\n",
       "      <th>89q2</th>\n",
       "      <th>90q2</th>\n",
       "      <th>91q2</th>\n",
       "      <th>92q2</th>\n",
       "      <th>93q2</th>\n",
       "      <th>94q2</th>\n",
       "      <th>95q2</th>\n",
       "    </tr>\n",
       "  </thead>\n",
       "  <tbody>\n",
       "    <tr>\n",
       "      <th>0</th>\n",
       "      <td>0</td>\n",
       "      <td>0</td>\n",
       "      <td>1</td>\n",
       "      <td>2</td>\n",
       "      <td>step step guid invest share market india</td>\n",
       "      <td>step step guid invest share market</td>\n",
       "      <td>0</td>\n",
       "      <td>1.157895</td>\n",
       "      <td>14</td>\n",
       "      <td>12</td>\n",
       "      <td>...</td>\n",
       "      <td>18.996169</td>\n",
       "      <td>-20.792302</td>\n",
       "      <td>-22.099690</td>\n",
       "      <td>-39.491452</td>\n",
       "      <td>-25.912614</td>\n",
       "      <td>-12.067960</td>\n",
       "      <td>16.488814</td>\n",
       "      <td>40.195788</td>\n",
       "      <td>-14.407949</td>\n",
       "      <td>-2.594384</td>\n",
       "    </tr>\n",
       "    <tr>\n",
       "      <th>1</th>\n",
       "      <td>1</td>\n",
       "      <td>1</td>\n",
       "      <td>3</td>\n",
       "      <td>4</td>\n",
       "      <td>stori kohinoor koh i noor diamond</td>\n",
       "      <td>would happen indian govern stole kohinoor koh ...</td>\n",
       "      <td>0</td>\n",
       "      <td>0.579545</td>\n",
       "      <td>8</td>\n",
       "      <td>13</td>\n",
       "      <td>...</td>\n",
       "      <td>14.065927</td>\n",
       "      <td>-32.599546</td>\n",
       "      <td>-54.725100</td>\n",
       "      <td>5.573329</td>\n",
       "      <td>-19.255911</td>\n",
       "      <td>-20.936302</td>\n",
       "      <td>14.818417</td>\n",
       "      <td>39.671840</td>\n",
       "      <td>10.103314</td>\n",
       "      <td>9.297360</td>\n",
       "    </tr>\n",
       "    <tr>\n",
       "      <th>2</th>\n",
       "      <td>2</td>\n",
       "      <td>2</td>\n",
       "      <td>5</td>\n",
       "      <td>6</td>\n",
       "      <td>increas speed internet connect use vpn</td>\n",
       "      <td>internet speed increas hack dn</td>\n",
       "      <td>0</td>\n",
       "      <td>1.237288</td>\n",
       "      <td>14</td>\n",
       "      <td>10</td>\n",
       "      <td>...</td>\n",
       "      <td>-10.416016</td>\n",
       "      <td>-22.239469</td>\n",
       "      <td>-7.408381</td>\n",
       "      <td>-20.735026</td>\n",
       "      <td>-12.088432</td>\n",
       "      <td>-12.295888</td>\n",
       "      <td>-10.115664</td>\n",
       "      <td>35.265050</td>\n",
       "      <td>16.605785</td>\n",
       "      <td>16.955342</td>\n",
       "    </tr>\n",
       "    <tr>\n",
       "      <th>3</th>\n",
       "      <td>3</td>\n",
       "      <td>3</td>\n",
       "      <td>7</td>\n",
       "      <td>8</td>\n",
       "      <td>mental lone solv</td>\n",
       "      <td>find remaind math math divid</td>\n",
       "      <td>0</td>\n",
       "      <td>0.769231</td>\n",
       "      <td>11</td>\n",
       "      <td>9</td>\n",
       "      <td>...</td>\n",
       "      <td>5.878617</td>\n",
       "      <td>-14.109877</td>\n",
       "      <td>-15.244852</td>\n",
       "      <td>-6.924014</td>\n",
       "      <td>-9.974960</td>\n",
       "      <td>-26.881352</td>\n",
       "      <td>0.288322</td>\n",
       "      <td>38.630093</td>\n",
       "      <td>3.197422</td>\n",
       "      <td>-6.494623</td>\n",
       "    </tr>\n",
       "    <tr>\n",
       "      <th>4</th>\n",
       "      <td>4</td>\n",
       "      <td>4</td>\n",
       "      <td>9</td>\n",
       "      <td>10</td>\n",
       "      <td>one dissolv water quikli sugar salt methan car...</td>\n",
       "      <td>fish would surviv salt water</td>\n",
       "      <td>0</td>\n",
       "      <td>1.948718</td>\n",
       "      <td>13</td>\n",
       "      <td>7</td>\n",
       "      <td>...</td>\n",
       "      <td>17.013748</td>\n",
       "      <td>-8.558105</td>\n",
       "      <td>-20.063761</td>\n",
       "      <td>2.328464</td>\n",
       "      <td>-28.234996</td>\n",
       "      <td>-12.931378</td>\n",
       "      <td>0.076697</td>\n",
       "      <td>22.908110</td>\n",
       "      <td>-0.293697</td>\n",
       "      <td>-8.849080</td>\n",
       "    </tr>\n",
       "    <tr>\n",
       "      <th>...</th>\n",
       "      <td>...</td>\n",
       "      <td>...</td>\n",
       "      <td>...</td>\n",
       "      <td>...</td>\n",
       "      <td>...</td>\n",
       "      <td>...</td>\n",
       "      <td>...</td>\n",
       "      <td>...</td>\n",
       "      <td>...</td>\n",
       "      <td>...</td>\n",
       "      <td>...</td>\n",
       "      <td>...</td>\n",
       "      <td>...</td>\n",
       "      <td>...</td>\n",
       "      <td>...</td>\n",
       "      <td>...</td>\n",
       "      <td>...</td>\n",
       "      <td>...</td>\n",
       "      <td>...</td>\n",
       "      <td>...</td>\n",
       "      <td>...</td>\n",
       "    </tr>\n",
       "    <tr>\n",
       "      <th>404282</th>\n",
       "      <td>404282</td>\n",
       "      <td>404285</td>\n",
       "      <td>433578</td>\n",
       "      <td>379845</td>\n",
       "      <td>mani keyword racket program languag latest ver...</td>\n",
       "      <td>mani keyword perl program languag latest version</td>\n",
       "      <td>0</td>\n",
       "      <td>1.075949</td>\n",
       "      <td>14</td>\n",
       "      <td>13</td>\n",
       "      <td>...</td>\n",
       "      <td>5.165456</td>\n",
       "      <td>-11.464328</td>\n",
       "      <td>-1.075705</td>\n",
       "      <td>-48.533878</td>\n",
       "      <td>-5.871400</td>\n",
       "      <td>-31.292594</td>\n",
       "      <td>-2.277079</td>\n",
       "      <td>10.066749</td>\n",
       "      <td>-26.098974</td>\n",
       "      <td>11.197278</td>\n",
       "    </tr>\n",
       "    <tr>\n",
       "      <th>404283</th>\n",
       "      <td>404283</td>\n",
       "      <td>404286</td>\n",
       "      <td>18840</td>\n",
       "      <td>155606</td>\n",
       "      <td>believ life death</td>\n",
       "      <td>true life death</td>\n",
       "      <td>1</td>\n",
       "      <td>0.976190</td>\n",
       "      <td>8</td>\n",
       "      <td>9</td>\n",
       "      <td>...</td>\n",
       "      <td>-10.910187</td>\n",
       "      <td>-17.369496</td>\n",
       "      <td>-5.371824</td>\n",
       "      <td>-7.351629</td>\n",
       "      <td>-1.781602</td>\n",
       "      <td>-5.029964</td>\n",
       "      <td>7.696611</td>\n",
       "      <td>6.667526</td>\n",
       "      <td>8.021969</td>\n",
       "      <td>-5.381291</td>\n",
       "    </tr>\n",
       "    <tr>\n",
       "      <th>404284</th>\n",
       "      <td>404284</td>\n",
       "      <td>404287</td>\n",
       "      <td>537928</td>\n",
       "      <td>537929</td>\n",
       "      <td>one coin</td>\n",
       "      <td>own coin</td>\n",
       "      <td>0</td>\n",
       "      <td>1.000000</td>\n",
       "      <td>4</td>\n",
       "      <td>3</td>\n",
       "      <td>...</td>\n",
       "      <td>1.919942</td>\n",
       "      <td>-8.093113</td>\n",
       "      <td>-4.486509</td>\n",
       "      <td>-4.305888</td>\n",
       "      <td>-0.647508</td>\n",
       "      <td>6.759025</td>\n",
       "      <td>2.776058</td>\n",
       "      <td>9.318659</td>\n",
       "      <td>3.572573</td>\n",
       "      <td>-7.075776</td>\n",
       "    </tr>\n",
       "    <tr>\n",
       "      <th>404285</th>\n",
       "      <td>404285</td>\n",
       "      <td>404288</td>\n",
       "      <td>537930</td>\n",
       "      <td>537931</td>\n",
       "      <td>approx annual cost live studi uic chicago indi...</td>\n",
       "      <td>littl hairfal problem want use hair style prod...</td>\n",
       "      <td>0</td>\n",
       "      <td>0.740157</td>\n",
       "      <td>17</td>\n",
       "      <td>25</td>\n",
       "      <td>...</td>\n",
       "      <td>30.862432</td>\n",
       "      <td>-37.270439</td>\n",
       "      <td>-49.603633</td>\n",
       "      <td>37.502799</td>\n",
       "      <td>-39.455253</td>\n",
       "      <td>-51.782338</td>\n",
       "      <td>21.501225</td>\n",
       "      <td>58.417728</td>\n",
       "      <td>-7.236231</td>\n",
       "      <td>12.738594</td>\n",
       "    </tr>\n",
       "    <tr>\n",
       "      <th>404286</th>\n",
       "      <td>404286</td>\n",
       "      <td>404289</td>\n",
       "      <td>537932</td>\n",
       "      <td>537933</td>\n",
       "      <td>like sex cousin</td>\n",
       "      <td>like sex cousin</td>\n",
       "      <td>0</td>\n",
       "      <td>0.822222</td>\n",
       "      <td>8</td>\n",
       "      <td>10</td>\n",
       "      <td>...</td>\n",
       "      <td>0.600433</td>\n",
       "      <td>1.283406</td>\n",
       "      <td>-15.643097</td>\n",
       "      <td>-2.210714</td>\n",
       "      <td>-2.253333</td>\n",
       "      <td>3.119341</td>\n",
       "      <td>-3.032176</td>\n",
       "      <td>3.198808</td>\n",
       "      <td>4.019858</td>\n",
       "      <td>0.414988</td>\n",
       "    </tr>\n",
       "  </tbody>\n",
       "</table>\n",
       "<p>404287 rows × 207 columns</p>\n",
       "</div>"
      ],
      "text/plain": [
       "        Unnamed: 0      id    qid1    qid2  \\\n",
       "0                0       0       1       2   \n",
       "1                1       1       3       4   \n",
       "2                2       2       5       6   \n",
       "3                3       3       7       8   \n",
       "4                4       4       9      10   \n",
       "...            ...     ...     ...     ...   \n",
       "404282      404282  404285  433578  379845   \n",
       "404283      404283  404286   18840  155606   \n",
       "404284      404284  404287  537928  537929   \n",
       "404285      404285  404288  537930  537931   \n",
       "404286      404286  404289  537932  537933   \n",
       "\n",
       "                                                question1  \\\n",
       "0                step step guid invest share market india   \n",
       "1                       stori kohinoor koh i noor diamond   \n",
       "2                  increas speed internet connect use vpn   \n",
       "3                                        mental lone solv   \n",
       "4       one dissolv water quikli sugar salt methan car...   \n",
       "...                                                   ...   \n",
       "404282  mani keyword racket program languag latest ver...   \n",
       "404283                                  believ life death   \n",
       "404284                                           one coin   \n",
       "404285  approx annual cost live studi uic chicago indi...   \n",
       "404286                                    like sex cousin   \n",
       "\n",
       "                                                question2  is_duplicate  \\\n",
       "0                      step step guid invest share market             0   \n",
       "1       would happen indian govern stole kohinoor koh ...             0   \n",
       "2                          internet speed increas hack dn             0   \n",
       "3                            find remaind math math divid             0   \n",
       "4                            fish would surviv salt water             0   \n",
       "...                                                   ...           ...   \n",
       "404282   mani keyword perl program languag latest version             0   \n",
       "404283                                    true life death             1   \n",
       "404284                                           own coin             0   \n",
       "404285  littl hairfal problem want use hair style prod...             0   \n",
       "404286                                    like sex cousin             0   \n",
       "\n",
       "           r_len  q1_words  q2_words  ...       86q2       87q2       88q2  \\\n",
       "0       1.157895        14        12  ...  18.996169 -20.792302 -22.099690   \n",
       "1       0.579545         8        13  ...  14.065927 -32.599546 -54.725100   \n",
       "2       1.237288        14        10  ... -10.416016 -22.239469  -7.408381   \n",
       "3       0.769231        11         9  ...   5.878617 -14.109877 -15.244852   \n",
       "4       1.948718        13         7  ...  17.013748  -8.558105 -20.063761   \n",
       "...          ...       ...       ...  ...        ...        ...        ...   \n",
       "404282  1.075949        14        13  ...   5.165456 -11.464328  -1.075705   \n",
       "404283  0.976190         8         9  ... -10.910187 -17.369496  -5.371824   \n",
       "404284  1.000000         4         3  ...   1.919942  -8.093113  -4.486509   \n",
       "404285  0.740157        17        25  ...  30.862432 -37.270439 -49.603633   \n",
       "404286  0.822222         8        10  ...   0.600433   1.283406 -15.643097   \n",
       "\n",
       "             89q2       90q2       91q2       92q2       93q2       94q2  \\\n",
       "0      -39.491452 -25.912614 -12.067960  16.488814  40.195788 -14.407949   \n",
       "1        5.573329 -19.255911 -20.936302  14.818417  39.671840  10.103314   \n",
       "2      -20.735026 -12.088432 -12.295888 -10.115664  35.265050  16.605785   \n",
       "3       -6.924014  -9.974960 -26.881352   0.288322  38.630093   3.197422   \n",
       "4        2.328464 -28.234996 -12.931378   0.076697  22.908110  -0.293697   \n",
       "...           ...        ...        ...        ...        ...        ...   \n",
       "404282 -48.533878  -5.871400 -31.292594  -2.277079  10.066749 -26.098974   \n",
       "404283  -7.351629  -1.781602  -5.029964   7.696611   6.667526   8.021969   \n",
       "404284  -4.305888  -0.647508   6.759025   2.776058   9.318659   3.572573   \n",
       "404285  37.502799 -39.455253 -51.782338  21.501225  58.417728  -7.236231   \n",
       "404286  -2.210714  -2.253333   3.119341  -3.032176   3.198808   4.019858   \n",
       "\n",
       "             95q2  \n",
       "0       -2.594384  \n",
       "1        9.297360  \n",
       "2       16.955342  \n",
       "3       -6.494623  \n",
       "4       -8.849080  \n",
       "...           ...  \n",
       "404282  11.197278  \n",
       "404283  -5.381291  \n",
       "404284  -7.075776  \n",
       "404285  12.738594  \n",
       "404286   0.414988  \n",
       "\n",
       "[404287 rows x 207 columns]"
      ]
     },
     "execution_count": 3,
     "metadata": {},
     "output_type": "execute_result"
    }
   ],
   "source": [
    "data"
   ]
  },
  {
   "cell_type": "code",
   "execution_count": 4,
   "metadata": {},
   "outputs": [],
   "source": [
    "data.drop(['Unnamed: 0','id','question1','question2'],axis = 1,inplace = True)"
   ]
  },
  {
   "cell_type": "code",
   "execution_count": 5,
   "metadata": {},
   "outputs": [
    {
     "data": {
      "text/html": [
       "<div>\n",
       "<style scoped>\n",
       "    .dataframe tbody tr th:only-of-type {\n",
       "        vertical-align: middle;\n",
       "    }\n",
       "\n",
       "    .dataframe tbody tr th {\n",
       "        vertical-align: top;\n",
       "    }\n",
       "\n",
       "    .dataframe thead th {\n",
       "        text-align: right;\n",
       "    }\n",
       "</style>\n",
       "<table border=\"1\" class=\"dataframe\">\n",
       "  <thead>\n",
       "    <tr style=\"text-align: right;\">\n",
       "      <th></th>\n",
       "      <th>qid1</th>\n",
       "      <th>qid2</th>\n",
       "      <th>is_duplicate</th>\n",
       "      <th>r_len</th>\n",
       "      <th>q1_words</th>\n",
       "      <th>q2_words</th>\n",
       "      <th>c_words</th>\n",
       "      <th>token_set_ratio</th>\n",
       "      <th>token_sort_ratio</th>\n",
       "      <th>fuzz_ratio</th>\n",
       "      <th>...</th>\n",
       "      <th>86q2</th>\n",
       "      <th>87q2</th>\n",
       "      <th>88q2</th>\n",
       "      <th>89q2</th>\n",
       "      <th>90q2</th>\n",
       "      <th>91q2</th>\n",
       "      <th>92q2</th>\n",
       "      <th>93q2</th>\n",
       "      <th>94q2</th>\n",
       "      <th>95q2</th>\n",
       "    </tr>\n",
       "  </thead>\n",
       "  <tbody>\n",
       "    <tr>\n",
       "      <th>0</th>\n",
       "      <td>1</td>\n",
       "      <td>2</td>\n",
       "      <td>0</td>\n",
       "      <td>1.157895</td>\n",
       "      <td>14</td>\n",
       "      <td>12</td>\n",
       "      <td>10</td>\n",
       "      <td>100</td>\n",
       "      <td>92</td>\n",
       "      <td>92</td>\n",
       "      <td>...</td>\n",
       "      <td>18.996169</td>\n",
       "      <td>-20.792302</td>\n",
       "      <td>-22.099690</td>\n",
       "      <td>-39.491452</td>\n",
       "      <td>-25.912614</td>\n",
       "      <td>-12.067960</td>\n",
       "      <td>16.488814</td>\n",
       "      <td>40.195788</td>\n",
       "      <td>-14.407949</td>\n",
       "      <td>-2.594384</td>\n",
       "    </tr>\n",
       "    <tr>\n",
       "      <th>1</th>\n",
       "      <td>3</td>\n",
       "      <td>4</td>\n",
       "      <td>0</td>\n",
       "      <td>0.579545</td>\n",
       "      <td>8</td>\n",
       "      <td>13</td>\n",
       "      <td>4</td>\n",
       "      <td>90</td>\n",
       "      <td>63</td>\n",
       "      <td>63</td>\n",
       "      <td>...</td>\n",
       "      <td>14.065927</td>\n",
       "      <td>-32.599546</td>\n",
       "      <td>-54.725100</td>\n",
       "      <td>5.573329</td>\n",
       "      <td>-19.255911</td>\n",
       "      <td>-20.936302</td>\n",
       "      <td>14.818417</td>\n",
       "      <td>39.671840</td>\n",
       "      <td>10.103314</td>\n",
       "      <td>9.297360</td>\n",
       "    </tr>\n",
       "    <tr>\n",
       "      <th>2</th>\n",
       "      <td>5</td>\n",
       "      <td>6</td>\n",
       "      <td>0</td>\n",
       "      <td>1.237288</td>\n",
       "      <td>14</td>\n",
       "      <td>10</td>\n",
       "      <td>4</td>\n",
       "      <td>85</td>\n",
       "      <td>74</td>\n",
       "      <td>56</td>\n",
       "      <td>...</td>\n",
       "      <td>-10.416016</td>\n",
       "      <td>-22.239469</td>\n",
       "      <td>-7.408381</td>\n",
       "      <td>-20.735026</td>\n",
       "      <td>-12.088432</td>\n",
       "      <td>-12.295888</td>\n",
       "      <td>-10.115664</td>\n",
       "      <td>35.265050</td>\n",
       "      <td>16.605785</td>\n",
       "      <td>16.955342</td>\n",
       "    </tr>\n",
       "    <tr>\n",
       "      <th>3</th>\n",
       "      <td>7</td>\n",
       "      <td>8</td>\n",
       "      <td>0</td>\n",
       "      <td>0.769231</td>\n",
       "      <td>11</td>\n",
       "      <td>9</td>\n",
       "      <td>0</td>\n",
       "      <td>26</td>\n",
       "      <td>27</td>\n",
       "      <td>27</td>\n",
       "      <td>...</td>\n",
       "      <td>5.878617</td>\n",
       "      <td>-14.109877</td>\n",
       "      <td>-15.244852</td>\n",
       "      <td>-6.924014</td>\n",
       "      <td>-9.974960</td>\n",
       "      <td>-26.881352</td>\n",
       "      <td>0.288322</td>\n",
       "      <td>38.630093</td>\n",
       "      <td>3.197422</td>\n",
       "      <td>-6.494623</td>\n",
       "    </tr>\n",
       "    <tr>\n",
       "      <th>4</th>\n",
       "      <td>9</td>\n",
       "      <td>10</td>\n",
       "      <td>0</td>\n",
       "      <td>1.948718</td>\n",
       "      <td>13</td>\n",
       "      <td>7</td>\n",
       "      <td>2</td>\n",
       "      <td>53</td>\n",
       "      <td>42</td>\n",
       "      <td>42</td>\n",
       "      <td>...</td>\n",
       "      <td>17.013748</td>\n",
       "      <td>-8.558105</td>\n",
       "      <td>-20.063761</td>\n",
       "      <td>2.328464</td>\n",
       "      <td>-28.234996</td>\n",
       "      <td>-12.931378</td>\n",
       "      <td>0.076697</td>\n",
       "      <td>22.908110</td>\n",
       "      <td>-0.293697</td>\n",
       "      <td>-8.849080</td>\n",
       "    </tr>\n",
       "    <tr>\n",
       "      <th>...</th>\n",
       "      <td>...</td>\n",
       "      <td>...</td>\n",
       "      <td>...</td>\n",
       "      <td>...</td>\n",
       "      <td>...</td>\n",
       "      <td>...</td>\n",
       "      <td>...</td>\n",
       "      <td>...</td>\n",
       "      <td>...</td>\n",
       "      <td>...</td>\n",
       "      <td>...</td>\n",
       "      <td>...</td>\n",
       "      <td>...</td>\n",
       "      <td>...</td>\n",
       "      <td>...</td>\n",
       "      <td>...</td>\n",
       "      <td>...</td>\n",
       "      <td>...</td>\n",
       "      <td>...</td>\n",
       "      <td>...</td>\n",
       "      <td>...</td>\n",
       "    </tr>\n",
       "    <tr>\n",
       "      <th>404282</th>\n",
       "      <td>433578</td>\n",
       "      <td>379845</td>\n",
       "      <td>0</td>\n",
       "      <td>1.075949</td>\n",
       "      <td>14</td>\n",
       "      <td>13</td>\n",
       "      <td>11</td>\n",
       "      <td>95</td>\n",
       "      <td>88</td>\n",
       "      <td>92</td>\n",
       "      <td>...</td>\n",
       "      <td>5.165456</td>\n",
       "      <td>-11.464328</td>\n",
       "      <td>-1.075705</td>\n",
       "      <td>-48.533878</td>\n",
       "      <td>-5.871400</td>\n",
       "      <td>-31.292594</td>\n",
       "      <td>-2.277079</td>\n",
       "      <td>10.066749</td>\n",
       "      <td>-26.098974</td>\n",
       "      <td>11.197278</td>\n",
       "    </tr>\n",
       "    <tr>\n",
       "      <th>404283</th>\n",
       "      <td>18840</td>\n",
       "      <td>155606</td>\n",
       "      <td>1</td>\n",
       "      <td>0.976190</td>\n",
       "      <td>8</td>\n",
       "      <td>9</td>\n",
       "      <td>5</td>\n",
       "      <td>80</td>\n",
       "      <td>62</td>\n",
       "      <td>75</td>\n",
       "      <td>...</td>\n",
       "      <td>-10.910187</td>\n",
       "      <td>-17.369496</td>\n",
       "      <td>-5.371824</td>\n",
       "      <td>-7.351629</td>\n",
       "      <td>-1.781602</td>\n",
       "      <td>-5.029964</td>\n",
       "      <td>7.696611</td>\n",
       "      <td>6.667526</td>\n",
       "      <td>8.021969</td>\n",
       "      <td>-5.381291</td>\n",
       "    </tr>\n",
       "    <tr>\n",
       "      <th>404284</th>\n",
       "      <td>537928</td>\n",
       "      <td>537929</td>\n",
       "      <td>0</td>\n",
       "      <td>1.000000</td>\n",
       "      <td>4</td>\n",
       "      <td>3</td>\n",
       "      <td>1</td>\n",
       "      <td>88</td>\n",
       "      <td>88</td>\n",
       "      <td>88</td>\n",
       "      <td>...</td>\n",
       "      <td>1.919942</td>\n",
       "      <td>-8.093113</td>\n",
       "      <td>-4.486509</td>\n",
       "      <td>-4.305888</td>\n",
       "      <td>-0.647508</td>\n",
       "      <td>6.759025</td>\n",
       "      <td>2.776058</td>\n",
       "      <td>9.318659</td>\n",
       "      <td>3.572573</td>\n",
       "      <td>-7.075776</td>\n",
       "    </tr>\n",
       "    <tr>\n",
       "      <th>404285</th>\n",
       "      <td>537930</td>\n",
       "      <td>537931</td>\n",
       "      <td>0</td>\n",
       "      <td>0.740157</td>\n",
       "      <td>17</td>\n",
       "      <td>25</td>\n",
       "      <td>1</td>\n",
       "      <td>37</td>\n",
       "      <td>37</td>\n",
       "      <td>36</td>\n",
       "      <td>...</td>\n",
       "      <td>30.862432</td>\n",
       "      <td>-37.270439</td>\n",
       "      <td>-49.603633</td>\n",
       "      <td>37.502799</td>\n",
       "      <td>-39.455253</td>\n",
       "      <td>-51.782338</td>\n",
       "      <td>21.501225</td>\n",
       "      <td>58.417728</td>\n",
       "      <td>-7.236231</td>\n",
       "      <td>12.738594</td>\n",
       "    </tr>\n",
       "    <tr>\n",
       "      <th>404286</th>\n",
       "      <td>537932</td>\n",
       "      <td>537933</td>\n",
       "      <td>0</td>\n",
       "      <td>0.822222</td>\n",
       "      <td>8</td>\n",
       "      <td>10</td>\n",
       "      <td>8</td>\n",
       "      <td>100</td>\n",
       "      <td>100</td>\n",
       "      <td>100</td>\n",
       "      <td>...</td>\n",
       "      <td>0.600433</td>\n",
       "      <td>1.283406</td>\n",
       "      <td>-15.643097</td>\n",
       "      <td>-2.210714</td>\n",
       "      <td>-2.253333</td>\n",
       "      <td>3.119341</td>\n",
       "      <td>-3.032176</td>\n",
       "      <td>3.198808</td>\n",
       "      <td>4.019858</td>\n",
       "      <td>0.414988</td>\n",
       "    </tr>\n",
       "  </tbody>\n",
       "</table>\n",
       "<p>404287 rows × 203 columns</p>\n",
       "</div>"
      ],
      "text/plain": [
       "          qid1    qid2  is_duplicate     r_len  q1_words  q2_words  c_words  \\\n",
       "0            1       2             0  1.157895        14        12       10   \n",
       "1            3       4             0  0.579545         8        13        4   \n",
       "2            5       6             0  1.237288        14        10        4   \n",
       "3            7       8             0  0.769231        11         9        0   \n",
       "4            9      10             0  1.948718        13         7        2   \n",
       "...        ...     ...           ...       ...       ...       ...      ...   \n",
       "404282  433578  379845             0  1.075949        14        13       11   \n",
       "404283   18840  155606             1  0.976190         8         9        5   \n",
       "404284  537928  537929             0  1.000000         4         3        1   \n",
       "404285  537930  537931             0  0.740157        17        25        1   \n",
       "404286  537932  537933             0  0.822222         8        10        8   \n",
       "\n",
       "        token_set_ratio  token_sort_ratio  fuzz_ratio  ...       86q2  \\\n",
       "0                   100                92          92  ...  18.996169   \n",
       "1                    90                63          63  ...  14.065927   \n",
       "2                    85                74          56  ... -10.416016   \n",
       "3                    26                27          27  ...   5.878617   \n",
       "4                    53                42          42  ...  17.013748   \n",
       "...                 ...               ...         ...  ...        ...   \n",
       "404282               95                88          92  ...   5.165456   \n",
       "404283               80                62          75  ... -10.910187   \n",
       "404284               88                88          88  ...   1.919942   \n",
       "404285               37                37          36  ...  30.862432   \n",
       "404286              100               100         100  ...   0.600433   \n",
       "\n",
       "             87q2       88q2       89q2       90q2       91q2       92q2  \\\n",
       "0      -20.792302 -22.099690 -39.491452 -25.912614 -12.067960  16.488814   \n",
       "1      -32.599546 -54.725100   5.573329 -19.255911 -20.936302  14.818417   \n",
       "2      -22.239469  -7.408381 -20.735026 -12.088432 -12.295888 -10.115664   \n",
       "3      -14.109877 -15.244852  -6.924014  -9.974960 -26.881352   0.288322   \n",
       "4       -8.558105 -20.063761   2.328464 -28.234996 -12.931378   0.076697   \n",
       "...           ...        ...        ...        ...        ...        ...   \n",
       "404282 -11.464328  -1.075705 -48.533878  -5.871400 -31.292594  -2.277079   \n",
       "404283 -17.369496  -5.371824  -7.351629  -1.781602  -5.029964   7.696611   \n",
       "404284  -8.093113  -4.486509  -4.305888  -0.647508   6.759025   2.776058   \n",
       "404285 -37.270439 -49.603633  37.502799 -39.455253 -51.782338  21.501225   \n",
       "404286   1.283406 -15.643097  -2.210714  -2.253333   3.119341  -3.032176   \n",
       "\n",
       "             93q2       94q2       95q2  \n",
       "0       40.195788 -14.407949  -2.594384  \n",
       "1       39.671840  10.103314   9.297360  \n",
       "2       35.265050  16.605785  16.955342  \n",
       "3       38.630093   3.197422  -6.494623  \n",
       "4       22.908110  -0.293697  -8.849080  \n",
       "...           ...        ...        ...  \n",
       "404282  10.066749 -26.098974  11.197278  \n",
       "404283   6.667526   8.021969  -5.381291  \n",
       "404284   9.318659   3.572573  -7.075776  \n",
       "404285  58.417728  -7.236231  12.738594  \n",
       "404286   3.198808   4.019858   0.414988  \n",
       "\n",
       "[404287 rows x 203 columns]"
      ]
     },
     "execution_count": 5,
     "metadata": {},
     "output_type": "execute_result"
    }
   ],
   "source": [
    "data"
   ]
  },
  {
   "cell_type": "code",
   "execution_count": 6,
   "metadata": {},
   "outputs": [],
   "source": [
    "x = data.drop(['is_duplicate'],axis = 1)\n",
    "y = data['is_duplicate']\n"
   ]
  },
  {
   "cell_type": "code",
   "execution_count": 7,
   "metadata": {
    "scrolled": true
   },
   "outputs": [
    {
     "data": {
      "text/html": [
       "<div>\n",
       "<style scoped>\n",
       "    .dataframe tbody tr th:only-of-type {\n",
       "        vertical-align: middle;\n",
       "    }\n",
       "\n",
       "    .dataframe tbody tr th {\n",
       "        vertical-align: top;\n",
       "    }\n",
       "\n",
       "    .dataframe thead th {\n",
       "        text-align: right;\n",
       "    }\n",
       "</style>\n",
       "<table border=\"1\" class=\"dataframe\">\n",
       "  <thead>\n",
       "    <tr style=\"text-align: right;\">\n",
       "      <th></th>\n",
       "      <th>qid1</th>\n",
       "      <th>qid2</th>\n",
       "      <th>r_len</th>\n",
       "      <th>q1_words</th>\n",
       "      <th>q2_words</th>\n",
       "      <th>c_words</th>\n",
       "      <th>token_set_ratio</th>\n",
       "      <th>token_sort_ratio</th>\n",
       "      <th>fuzz_ratio</th>\n",
       "      <th>fuzz_partial_ratio</th>\n",
       "      <th>...</th>\n",
       "      <th>86q2</th>\n",
       "      <th>87q2</th>\n",
       "      <th>88q2</th>\n",
       "      <th>89q2</th>\n",
       "      <th>90q2</th>\n",
       "      <th>91q2</th>\n",
       "      <th>92q2</th>\n",
       "      <th>93q2</th>\n",
       "      <th>94q2</th>\n",
       "      <th>95q2</th>\n",
       "    </tr>\n",
       "  </thead>\n",
       "  <tbody>\n",
       "    <tr>\n",
       "      <th>0</th>\n",
       "      <td>1</td>\n",
       "      <td>2</td>\n",
       "      <td>1.157895</td>\n",
       "      <td>14</td>\n",
       "      <td>12</td>\n",
       "      <td>10</td>\n",
       "      <td>100</td>\n",
       "      <td>92</td>\n",
       "      <td>92</td>\n",
       "      <td>100</td>\n",
       "      <td>...</td>\n",
       "      <td>18.996169</td>\n",
       "      <td>-20.792302</td>\n",
       "      <td>-22.099690</td>\n",
       "      <td>-39.491452</td>\n",
       "      <td>-25.912614</td>\n",
       "      <td>-12.067960</td>\n",
       "      <td>16.488814</td>\n",
       "      <td>40.195788</td>\n",
       "      <td>-14.407949</td>\n",
       "      <td>-2.594384</td>\n",
       "    </tr>\n",
       "    <tr>\n",
       "      <th>1</th>\n",
       "      <td>3</td>\n",
       "      <td>4</td>\n",
       "      <td>0.579545</td>\n",
       "      <td>8</td>\n",
       "      <td>13</td>\n",
       "      <td>4</td>\n",
       "      <td>90</td>\n",
       "      <td>63</td>\n",
       "      <td>63</td>\n",
       "      <td>94</td>\n",
       "      <td>...</td>\n",
       "      <td>14.065927</td>\n",
       "      <td>-32.599546</td>\n",
       "      <td>-54.725100</td>\n",
       "      <td>5.573329</td>\n",
       "      <td>-19.255911</td>\n",
       "      <td>-20.936302</td>\n",
       "      <td>14.818417</td>\n",
       "      <td>39.671840</td>\n",
       "      <td>10.103314</td>\n",
       "      <td>9.297360</td>\n",
       "    </tr>\n",
       "    <tr>\n",
       "      <th>2</th>\n",
       "      <td>5</td>\n",
       "      <td>6</td>\n",
       "      <td>1.237288</td>\n",
       "      <td>14</td>\n",
       "      <td>10</td>\n",
       "      <td>4</td>\n",
       "      <td>85</td>\n",
       "      <td>74</td>\n",
       "      <td>56</td>\n",
       "      <td>60</td>\n",
       "      <td>...</td>\n",
       "      <td>-10.416016</td>\n",
       "      <td>-22.239469</td>\n",
       "      <td>-7.408381</td>\n",
       "      <td>-20.735026</td>\n",
       "      <td>-12.088432</td>\n",
       "      <td>-12.295888</td>\n",
       "      <td>-10.115664</td>\n",
       "      <td>35.265050</td>\n",
       "      <td>16.605785</td>\n",
       "      <td>16.955342</td>\n",
       "    </tr>\n",
       "    <tr>\n",
       "      <th>3</th>\n",
       "      <td>7</td>\n",
       "      <td>8</td>\n",
       "      <td>0.769231</td>\n",
       "      <td>11</td>\n",
       "      <td>9</td>\n",
       "      <td>0</td>\n",
       "      <td>26</td>\n",
       "      <td>27</td>\n",
       "      <td>27</td>\n",
       "      <td>31</td>\n",
       "      <td>...</td>\n",
       "      <td>5.878617</td>\n",
       "      <td>-14.109877</td>\n",
       "      <td>-15.244852</td>\n",
       "      <td>-6.924014</td>\n",
       "      <td>-9.974960</td>\n",
       "      <td>-26.881352</td>\n",
       "      <td>0.288322</td>\n",
       "      <td>38.630093</td>\n",
       "      <td>3.197422</td>\n",
       "      <td>-6.494623</td>\n",
       "    </tr>\n",
       "    <tr>\n",
       "      <th>4</th>\n",
       "      <td>9</td>\n",
       "      <td>10</td>\n",
       "      <td>1.948718</td>\n",
       "      <td>13</td>\n",
       "      <td>7</td>\n",
       "      <td>2</td>\n",
       "      <td>53</td>\n",
       "      <td>42</td>\n",
       "      <td>42</td>\n",
       "      <td>50</td>\n",
       "      <td>...</td>\n",
       "      <td>17.013748</td>\n",
       "      <td>-8.558105</td>\n",
       "      <td>-20.063761</td>\n",
       "      <td>2.328464</td>\n",
       "      <td>-28.234996</td>\n",
       "      <td>-12.931378</td>\n",
       "      <td>0.076697</td>\n",
       "      <td>22.908110</td>\n",
       "      <td>-0.293697</td>\n",
       "      <td>-8.849080</td>\n",
       "    </tr>\n",
       "    <tr>\n",
       "      <th>...</th>\n",
       "      <td>...</td>\n",
       "      <td>...</td>\n",
       "      <td>...</td>\n",
       "      <td>...</td>\n",
       "      <td>...</td>\n",
       "      <td>...</td>\n",
       "      <td>...</td>\n",
       "      <td>...</td>\n",
       "      <td>...</td>\n",
       "      <td>...</td>\n",
       "      <td>...</td>\n",
       "      <td>...</td>\n",
       "      <td>...</td>\n",
       "      <td>...</td>\n",
       "      <td>...</td>\n",
       "      <td>...</td>\n",
       "      <td>...</td>\n",
       "      <td>...</td>\n",
       "      <td>...</td>\n",
       "      <td>...</td>\n",
       "      <td>...</td>\n",
       "    </tr>\n",
       "    <tr>\n",
       "      <th>404282</th>\n",
       "      <td>433578</td>\n",
       "      <td>379845</td>\n",
       "      <td>1.075949</td>\n",
       "      <td>14</td>\n",
       "      <td>13</td>\n",
       "      <td>11</td>\n",
       "      <td>95</td>\n",
       "      <td>88</td>\n",
       "      <td>92</td>\n",
       "      <td>90</td>\n",
       "      <td>...</td>\n",
       "      <td>5.165456</td>\n",
       "      <td>-11.464328</td>\n",
       "      <td>-1.075705</td>\n",
       "      <td>-48.533878</td>\n",
       "      <td>-5.871400</td>\n",
       "      <td>-31.292594</td>\n",
       "      <td>-2.277079</td>\n",
       "      <td>10.066749</td>\n",
       "      <td>-26.098974</td>\n",
       "      <td>11.197278</td>\n",
       "    </tr>\n",
       "    <tr>\n",
       "      <th>404283</th>\n",
       "      <td>18840</td>\n",
       "      <td>155606</td>\n",
       "      <td>0.976190</td>\n",
       "      <td>8</td>\n",
       "      <td>9</td>\n",
       "      <td>5</td>\n",
       "      <td>80</td>\n",
       "      <td>62</td>\n",
       "      <td>75</td>\n",
       "      <td>80</td>\n",
       "      <td>...</td>\n",
       "      <td>-10.910187</td>\n",
       "      <td>-17.369496</td>\n",
       "      <td>-5.371824</td>\n",
       "      <td>-7.351629</td>\n",
       "      <td>-1.781602</td>\n",
       "      <td>-5.029964</td>\n",
       "      <td>7.696611</td>\n",
       "      <td>6.667526</td>\n",
       "      <td>8.021969</td>\n",
       "      <td>-5.381291</td>\n",
       "    </tr>\n",
       "    <tr>\n",
       "      <th>404284</th>\n",
       "      <td>537928</td>\n",
       "      <td>537929</td>\n",
       "      <td>1.000000</td>\n",
       "      <td>4</td>\n",
       "      <td>3</td>\n",
       "      <td>1</td>\n",
       "      <td>88</td>\n",
       "      <td>88</td>\n",
       "      <td>88</td>\n",
       "      <td>88</td>\n",
       "      <td>...</td>\n",
       "      <td>1.919942</td>\n",
       "      <td>-8.093113</td>\n",
       "      <td>-4.486509</td>\n",
       "      <td>-4.305888</td>\n",
       "      <td>-0.647508</td>\n",
       "      <td>6.759025</td>\n",
       "      <td>2.776058</td>\n",
       "      <td>9.318659</td>\n",
       "      <td>3.572573</td>\n",
       "      <td>-7.075776</td>\n",
       "    </tr>\n",
       "    <tr>\n",
       "      <th>404285</th>\n",
       "      <td>537930</td>\n",
       "      <td>537931</td>\n",
       "      <td>0.740157</td>\n",
       "      <td>17</td>\n",
       "      <td>25</td>\n",
       "      <td>1</td>\n",
       "      <td>37</td>\n",
       "      <td>37</td>\n",
       "      <td>36</td>\n",
       "      <td>41</td>\n",
       "      <td>...</td>\n",
       "      <td>30.862432</td>\n",
       "      <td>-37.270439</td>\n",
       "      <td>-49.603633</td>\n",
       "      <td>37.502799</td>\n",
       "      <td>-39.455253</td>\n",
       "      <td>-51.782338</td>\n",
       "      <td>21.501225</td>\n",
       "      <td>58.417728</td>\n",
       "      <td>-7.236231</td>\n",
       "      <td>12.738594</td>\n",
       "    </tr>\n",
       "    <tr>\n",
       "      <th>404286</th>\n",
       "      <td>537932</td>\n",
       "      <td>537933</td>\n",
       "      <td>0.822222</td>\n",
       "      <td>8</td>\n",
       "      <td>10</td>\n",
       "      <td>8</td>\n",
       "      <td>100</td>\n",
       "      <td>100</td>\n",
       "      <td>100</td>\n",
       "      <td>100</td>\n",
       "      <td>...</td>\n",
       "      <td>0.600433</td>\n",
       "      <td>1.283406</td>\n",
       "      <td>-15.643097</td>\n",
       "      <td>-2.210714</td>\n",
       "      <td>-2.253333</td>\n",
       "      <td>3.119341</td>\n",
       "      <td>-3.032176</td>\n",
       "      <td>3.198808</td>\n",
       "      <td>4.019858</td>\n",
       "      <td>0.414988</td>\n",
       "    </tr>\n",
       "  </tbody>\n",
       "</table>\n",
       "<p>404287 rows × 202 columns</p>\n",
       "</div>"
      ],
      "text/plain": [
       "          qid1    qid2     r_len  q1_words  q2_words  c_words  \\\n",
       "0            1       2  1.157895        14        12       10   \n",
       "1            3       4  0.579545         8        13        4   \n",
       "2            5       6  1.237288        14        10        4   \n",
       "3            7       8  0.769231        11         9        0   \n",
       "4            9      10  1.948718        13         7        2   \n",
       "...        ...     ...       ...       ...       ...      ...   \n",
       "404282  433578  379845  1.075949        14        13       11   \n",
       "404283   18840  155606  0.976190         8         9        5   \n",
       "404284  537928  537929  1.000000         4         3        1   \n",
       "404285  537930  537931  0.740157        17        25        1   \n",
       "404286  537932  537933  0.822222         8        10        8   \n",
       "\n",
       "        token_set_ratio  token_sort_ratio  fuzz_ratio  fuzz_partial_ratio  \\\n",
       "0                   100                92          92                 100   \n",
       "1                    90                63          63                  94   \n",
       "2                    85                74          56                  60   \n",
       "3                    26                27          27                  31   \n",
       "4                    53                42          42                  50   \n",
       "...                 ...               ...         ...                 ...   \n",
       "404282               95                88          92                  90   \n",
       "404283               80                62          75                  80   \n",
       "404284               88                88          88                  88   \n",
       "404285               37                37          36                  41   \n",
       "404286              100               100         100                 100   \n",
       "\n",
       "        ...       86q2       87q2       88q2       89q2       90q2       91q2  \\\n",
       "0       ...  18.996169 -20.792302 -22.099690 -39.491452 -25.912614 -12.067960   \n",
       "1       ...  14.065927 -32.599546 -54.725100   5.573329 -19.255911 -20.936302   \n",
       "2       ... -10.416016 -22.239469  -7.408381 -20.735026 -12.088432 -12.295888   \n",
       "3       ...   5.878617 -14.109877 -15.244852  -6.924014  -9.974960 -26.881352   \n",
       "4       ...  17.013748  -8.558105 -20.063761   2.328464 -28.234996 -12.931378   \n",
       "...     ...        ...        ...        ...        ...        ...        ...   \n",
       "404282  ...   5.165456 -11.464328  -1.075705 -48.533878  -5.871400 -31.292594   \n",
       "404283  ... -10.910187 -17.369496  -5.371824  -7.351629  -1.781602  -5.029964   \n",
       "404284  ...   1.919942  -8.093113  -4.486509  -4.305888  -0.647508   6.759025   \n",
       "404285  ...  30.862432 -37.270439 -49.603633  37.502799 -39.455253 -51.782338   \n",
       "404286  ...   0.600433   1.283406 -15.643097  -2.210714  -2.253333   3.119341   \n",
       "\n",
       "             92q2       93q2       94q2       95q2  \n",
       "0       16.488814  40.195788 -14.407949  -2.594384  \n",
       "1       14.818417  39.671840  10.103314   9.297360  \n",
       "2      -10.115664  35.265050  16.605785  16.955342  \n",
       "3        0.288322  38.630093   3.197422  -6.494623  \n",
       "4        0.076697  22.908110  -0.293697  -8.849080  \n",
       "...           ...        ...        ...        ...  \n",
       "404282  -2.277079  10.066749 -26.098974  11.197278  \n",
       "404283   7.696611   6.667526   8.021969  -5.381291  \n",
       "404284   2.776058   9.318659   3.572573  -7.075776  \n",
       "404285  21.501225  58.417728  -7.236231  12.738594  \n",
       "404286  -3.032176   3.198808   4.019858   0.414988  \n",
       "\n",
       "[404287 rows x 202 columns]"
      ]
     },
     "execution_count": 7,
     "metadata": {},
     "output_type": "execute_result"
    }
   ],
   "source": [
    "x"
   ]
  },
  {
   "cell_type": "code",
   "execution_count": 8,
   "metadata": {},
   "outputs": [
    {
     "data": {
      "text/plain": [
       "0         0\n",
       "1         0\n",
       "2         0\n",
       "3         0\n",
       "4         0\n",
       "         ..\n",
       "404282    0\n",
       "404283    1\n",
       "404284    0\n",
       "404285    0\n",
       "404286    0\n",
       "Name: is_duplicate, Length: 404287, dtype: int64"
      ]
     },
     "execution_count": 8,
     "metadata": {},
     "output_type": "execute_result"
    }
   ],
   "source": [
    "y"
   ]
  },
  {
   "cell_type": "code",
   "execution_count": 9,
   "metadata": {},
   "outputs": [
    {
     "data": {
      "text/plain": [
       "0    63.079941\n",
       "1    36.920059\n",
       "Name: is_duplicate, dtype: float64"
      ]
     },
     "execution_count": 9,
     "metadata": {},
     "output_type": "execute_result"
    }
   ],
   "source": [
    "\n",
    "(y.value_counts()/len(y))*100"
   ]
  },
  {
   "cell_type": "code",
   "execution_count": 10,
   "metadata": {},
   "outputs": [
    {
     "data": {
      "text/html": [
       "<div>\n",
       "<style scoped>\n",
       "    .dataframe tbody tr th:only-of-type {\n",
       "        vertical-align: middle;\n",
       "    }\n",
       "\n",
       "    .dataframe tbody tr th {\n",
       "        vertical-align: top;\n",
       "    }\n",
       "\n",
       "    .dataframe thead th {\n",
       "        text-align: right;\n",
       "    }\n",
       "</style>\n",
       "<table border=\"1\" class=\"dataframe\">\n",
       "  <thead>\n",
       "    <tr style=\"text-align: right;\">\n",
       "      <th></th>\n",
       "      <th>qid1</th>\n",
       "      <th>qid2</th>\n",
       "      <th>r_len</th>\n",
       "      <th>q1_words</th>\n",
       "      <th>q2_words</th>\n",
       "      <th>c_words</th>\n",
       "      <th>token_set_ratio</th>\n",
       "      <th>token_sort_ratio</th>\n",
       "      <th>fuzz_ratio</th>\n",
       "      <th>fuzz_partial_ratio</th>\n",
       "      <th>...</th>\n",
       "      <th>86q2</th>\n",
       "      <th>87q2</th>\n",
       "      <th>88q2</th>\n",
       "      <th>89q2</th>\n",
       "      <th>90q2</th>\n",
       "      <th>91q2</th>\n",
       "      <th>92q2</th>\n",
       "      <th>93q2</th>\n",
       "      <th>94q2</th>\n",
       "      <th>95q2</th>\n",
       "    </tr>\n",
       "  </thead>\n",
       "  <tbody>\n",
       "    <tr>\n",
       "      <th>count</th>\n",
       "      <td>404287.000000</td>\n",
       "      <td>404287.000000</td>\n",
       "      <td>404287.000000</td>\n",
       "      <td>404287.000000</td>\n",
       "      <td>404287.000000</td>\n",
       "      <td>404287.000000</td>\n",
       "      <td>404287.000000</td>\n",
       "      <td>404287.000000</td>\n",
       "      <td>404287.000000</td>\n",
       "      <td>404287.000000</td>\n",
       "      <td>...</td>\n",
       "      <td>404287.000000</td>\n",
       "      <td>404287.000000</td>\n",
       "      <td>404287.000000</td>\n",
       "      <td>404287.000000</td>\n",
       "      <td>404287.000000</td>\n",
       "      <td>404287.000000</td>\n",
       "      <td>404287.000000</td>\n",
       "      <td>404287.000000</td>\n",
       "      <td>404287.000000</td>\n",
       "      <td>404287.000000</td>\n",
       "    </tr>\n",
       "    <tr>\n",
       "      <th>mean</th>\n",
       "      <td>217243.151093</td>\n",
       "      <td>220955.212082</td>\n",
       "      <td>1.110651</td>\n",
       "      <td>10.942256</td>\n",
       "      <td>11.182017</td>\n",
       "      <td>4.511619</td>\n",
       "      <td>77.566459</td>\n",
       "      <td>65.030706</td>\n",
       "      <td>62.447702</td>\n",
       "      <td>70.277637</td>\n",
       "      <td>...</td>\n",
       "      <td>9.710591</td>\n",
       "      <td>-14.657233</td>\n",
       "      <td>-16.559935</td>\n",
       "      <td>0.404952</td>\n",
       "      <td>-8.807252</td>\n",
       "      <td>-9.757545</td>\n",
       "      <td>7.687286</td>\n",
       "      <td>22.816910</td>\n",
       "      <td>0.301594</td>\n",
       "      <td>3.164671</td>\n",
       "    </tr>\n",
       "    <tr>\n",
       "      <th>std</th>\n",
       "      <td>157751.614317</td>\n",
       "      <td>159903.168488</td>\n",
       "      <td>0.610160</td>\n",
       "      <td>5.428812</td>\n",
       "      <td>6.305210</td>\n",
       "      <td>3.098609</td>\n",
       "      <td>21.068160</td>\n",
       "      <td>19.709638</td>\n",
       "      <td>20.434485</td>\n",
       "      <td>20.117644</td>\n",
       "      <td>...</td>\n",
       "      <td>13.084776</td>\n",
       "      <td>16.471864</td>\n",
       "      <td>13.431724</td>\n",
       "      <td>22.128755</td>\n",
       "      <td>14.888889</td>\n",
       "      <td>15.000206</td>\n",
       "      <td>14.568160</td>\n",
       "      <td>17.455182</td>\n",
       "      <td>14.412589</td>\n",
       "      <td>11.928753</td>\n",
       "    </tr>\n",
       "    <tr>\n",
       "      <th>min</th>\n",
       "      <td>1.000000</td>\n",
       "      <td>2.000000</td>\n",
       "      <td>0.006711</td>\n",
       "      <td>1.000000</td>\n",
       "      <td>1.000000</td>\n",
       "      <td>0.000000</td>\n",
       "      <td>0.000000</td>\n",
       "      <td>0.000000</td>\n",
       "      <td>0.000000</td>\n",
       "      <td>0.000000</td>\n",
       "      <td>...</td>\n",
       "      <td>-52.619932</td>\n",
       "      <td>-282.684132</td>\n",
       "      <td>-407.942102</td>\n",
       "      <td>-233.724122</td>\n",
       "      <td>-206.754574</td>\n",
       "      <td>-265.279771</td>\n",
       "      <td>-129.800840</td>\n",
       "      <td>-34.860548</td>\n",
       "      <td>-142.779540</td>\n",
       "      <td>-83.416352</td>\n",
       "    </tr>\n",
       "    <tr>\n",
       "      <th>25%</th>\n",
       "      <td>74436.500000</td>\n",
       "      <td>74726.500000</td>\n",
       "      <td>0.793651</td>\n",
       "      <td>7.000000</td>\n",
       "      <td>7.000000</td>\n",
       "      <td>2.000000</td>\n",
       "      <td>64.000000</td>\n",
       "      <td>51.000000</td>\n",
       "      <td>46.000000</td>\n",
       "      <td>54.000000</td>\n",
       "      <td>...</td>\n",
       "      <td>1.327518</td>\n",
       "      <td>-22.672036</td>\n",
       "      <td>-22.600277</td>\n",
       "      <td>-13.379483</td>\n",
       "      <td>-17.003835</td>\n",
       "      <td>-17.101791</td>\n",
       "      <td>-1.701473</td>\n",
       "      <td>11.081756</td>\n",
       "      <td>-6.976933</td>\n",
       "      <td>-4.139626</td>\n",
       "    </tr>\n",
       "    <tr>\n",
       "      <th>50%</th>\n",
       "      <td>192181.000000</td>\n",
       "      <td>197053.000000</td>\n",
       "      <td>1.000000</td>\n",
       "      <td>10.000000</td>\n",
       "      <td>10.000000</td>\n",
       "      <td>4.000000</td>\n",
       "      <td>82.000000</td>\n",
       "      <td>65.000000</td>\n",
       "      <td>62.000000</td>\n",
       "      <td>70.000000</td>\n",
       "      <td>...</td>\n",
       "      <td>7.595238</td>\n",
       "      <td>-12.615253</td>\n",
       "      <td>-14.545198</td>\n",
       "      <td>-0.957055</td>\n",
       "      <td>-8.268810</td>\n",
       "      <td>-8.044914</td>\n",
       "      <td>5.605256</td>\n",
       "      <td>19.283727</td>\n",
       "      <td>1.736308</td>\n",
       "      <td>2.411236</td>\n",
       "    </tr>\n",
       "    <tr>\n",
       "      <th>75%</th>\n",
       "      <td>346573.000000</td>\n",
       "      <td>354692.000000</td>\n",
       "      <td>1.271186</td>\n",
       "      <td>13.000000</td>\n",
       "      <td>13.000000</td>\n",
       "      <td>6.000000</td>\n",
       "      <td>100.000000</td>\n",
       "      <td>80.000000</td>\n",
       "      <td>79.000000</td>\n",
       "      <td>86.000000</td>\n",
       "      <td>...</td>\n",
       "      <td>15.562436</td>\n",
       "      <td>-4.449017</td>\n",
       "      <td>-8.216960</td>\n",
       "      <td>13.168368</td>\n",
       "      <td>0.190083</td>\n",
       "      <td>-0.615888</td>\n",
       "      <td>14.700843</td>\n",
       "      <td>30.413652</td>\n",
       "      <td>9.135442</td>\n",
       "      <td>9.641618</td>\n",
       "    </tr>\n",
       "    <tr>\n",
       "      <th>max</th>\n",
       "      <td>537932.000000</td>\n",
       "      <td>537933.000000</td>\n",
       "      <td>117.000000</td>\n",
       "      <td>125.000000</td>\n",
       "      <td>237.000000</td>\n",
       "      <td>41.000000</td>\n",
       "      <td>100.000000</td>\n",
       "      <td>100.000000</td>\n",
       "      <td>100.000000</td>\n",
       "      <td>100.000000</td>\n",
       "      <td>...</td>\n",
       "      <td>244.347699</td>\n",
       "      <td>123.583015</td>\n",
       "      <td>76.444307</td>\n",
       "      <td>455.873451</td>\n",
       "      <td>107.406744</td>\n",
       "      <td>149.474167</td>\n",
       "      <td>288.105724</td>\n",
       "      <td>440.430492</td>\n",
       "      <td>103.619374</td>\n",
       "      <td>184.903000</td>\n",
       "    </tr>\n",
       "  </tbody>\n",
       "</table>\n",
       "<p>8 rows × 202 columns</p>\n",
       "</div>"
      ],
      "text/plain": [
       "                qid1           qid2          r_len       q1_words  \\\n",
       "count  404287.000000  404287.000000  404287.000000  404287.000000   \n",
       "mean   217243.151093  220955.212082       1.110651      10.942256   \n",
       "std    157751.614317  159903.168488       0.610160       5.428812   \n",
       "min         1.000000       2.000000       0.006711       1.000000   \n",
       "25%     74436.500000   74726.500000       0.793651       7.000000   \n",
       "50%    192181.000000  197053.000000       1.000000      10.000000   \n",
       "75%    346573.000000  354692.000000       1.271186      13.000000   \n",
       "max    537932.000000  537933.000000     117.000000     125.000000   \n",
       "\n",
       "            q2_words        c_words  token_set_ratio  token_sort_ratio  \\\n",
       "count  404287.000000  404287.000000    404287.000000     404287.000000   \n",
       "mean       11.182017       4.511619        77.566459         65.030706   \n",
       "std         6.305210       3.098609        21.068160         19.709638   \n",
       "min         1.000000       0.000000         0.000000          0.000000   \n",
       "25%         7.000000       2.000000        64.000000         51.000000   \n",
       "50%        10.000000       4.000000        82.000000         65.000000   \n",
       "75%        13.000000       6.000000       100.000000         80.000000   \n",
       "max       237.000000      41.000000       100.000000        100.000000   \n",
       "\n",
       "          fuzz_ratio  fuzz_partial_ratio  ...           86q2           87q2  \\\n",
       "count  404287.000000       404287.000000  ...  404287.000000  404287.000000   \n",
       "mean       62.447702           70.277637  ...       9.710591     -14.657233   \n",
       "std        20.434485           20.117644  ...      13.084776      16.471864   \n",
       "min         0.000000            0.000000  ...     -52.619932    -282.684132   \n",
       "25%        46.000000           54.000000  ...       1.327518     -22.672036   \n",
       "50%        62.000000           70.000000  ...       7.595238     -12.615253   \n",
       "75%        79.000000           86.000000  ...      15.562436      -4.449017   \n",
       "max       100.000000          100.000000  ...     244.347699     123.583015   \n",
       "\n",
       "                88q2           89q2           90q2           91q2  \\\n",
       "count  404287.000000  404287.000000  404287.000000  404287.000000   \n",
       "mean      -16.559935       0.404952      -8.807252      -9.757545   \n",
       "std        13.431724      22.128755      14.888889      15.000206   \n",
       "min      -407.942102    -233.724122    -206.754574    -265.279771   \n",
       "25%       -22.600277     -13.379483     -17.003835     -17.101791   \n",
       "50%       -14.545198      -0.957055      -8.268810      -8.044914   \n",
       "75%        -8.216960      13.168368       0.190083      -0.615888   \n",
       "max        76.444307     455.873451     107.406744     149.474167   \n",
       "\n",
       "                92q2           93q2           94q2           95q2  \n",
       "count  404287.000000  404287.000000  404287.000000  404287.000000  \n",
       "mean        7.687286      22.816910       0.301594       3.164671  \n",
       "std        14.568160      17.455182      14.412589      11.928753  \n",
       "min      -129.800840     -34.860548    -142.779540     -83.416352  \n",
       "25%        -1.701473      11.081756      -6.976933      -4.139626  \n",
       "50%         5.605256      19.283727       1.736308       2.411236  \n",
       "75%        14.700843      30.413652       9.135442       9.641618  \n",
       "max       288.105724     440.430492     103.619374     184.903000  \n",
       "\n",
       "[8 rows x 202 columns]"
      ]
     },
     "execution_count": 10,
     "metadata": {},
     "output_type": "execute_result"
    }
   ],
   "source": [
    "x.describe()"
   ]
  },
  {
   "cell_type": "code",
   "execution_count": 11,
   "metadata": {},
   "outputs": [
    {
     "data": {
      "text/plain": [
       "count    404287.000000\n",
       "mean          0.369201\n",
       "std           0.482589\n",
       "min           0.000000\n",
       "25%           0.000000\n",
       "50%           0.000000\n",
       "75%           1.000000\n",
       "max           1.000000\n",
       "Name: is_duplicate, dtype: float64"
      ]
     },
     "execution_count": 11,
     "metadata": {},
     "output_type": "execute_result"
    }
   ],
   "source": [
    "y.describe()"
   ]
  },
  {
   "cell_type": "code",
   "execution_count": 12,
   "metadata": {},
   "outputs": [
    {
     "name": "stdout",
     "output_type": "stream",
     "text": [
      "<class 'pandas.core.frame.DataFrame'>\n",
      "RangeIndex: 404287 entries, 0 to 404286\n",
      "Columns: 202 entries, qid1 to 95q2\n",
      "dtypes: float64(193), int64(9)\n",
      "memory usage: 623.1 MB\n"
     ]
    }
   ],
   "source": [
    "x.info()"
   ]
  },
  {
   "cell_type": "code",
   "execution_count": 13,
   "metadata": {},
   "outputs": [],
   "source": [
    "x_train,x_test,y_train,y_test = train_test_split(x,y,stratify = y,test_size = 0.30)"
   ]
  },
  {
   "cell_type": "code",
   "execution_count": 14,
   "metadata": {},
   "outputs": [
    {
     "name": "stdout",
     "output_type": "stream",
     "text": [
      "Number of data points in train data-  (283000, 202)\n",
      "==================================================\n",
      "Number of data points in test data-  (121287, 202)\n"
     ]
    }
   ],
   "source": [
    "print('Number of data points in train data- ', x_train.shape)\n",
    "print('='*50)\n",
    "print('Number of data points in test data- ', x_test.shape)"
   ]
  },
  {
   "cell_type": "code",
   "execution_count": 15,
   "metadata": {},
   "outputs": [
    {
     "name": "stdout",
     "output_type": "stream",
     "text": [
      "Distribution of class in train data---\n",
      "Class 0: 63.07985865724382 % and Class 1: 36.92014134275618 %\n",
      "==================================================\n",
      "Distribution of class in test data---\n",
      "Class 0: 63.08013224830361 % and Class 1: 36.91986775169639 %\n"
     ]
    }
   ],
   "source": [
    "print('Distribution of class in train data---')\n",
    "print('Class 0: {0} % and Class 1: {1} %'.format(len(y_train[y_train==0])*100/len(y_train),len(y_train[y_train==1])*100/len(y_train),))\n",
    "print('='*50)\n",
    "print('Distribution of class in test data---')\n",
    "print('Class 0: {0} % and Class 1: {1} %'.format(len(y_test[y_test==0])*100/len(y_test),len(y_test[y_test==1])*100/len(y_test)))"
   ]
  },
  {
   "cell_type": "code",
   "execution_count": null,
   "metadata": {},
   "outputs": [],
   "source": []
  },
  {
   "cell_type": "code",
   "execution_count": null,
   "metadata": {},
   "outputs": [],
   "source": []
  },
  {
   "cell_type": "code",
   "execution_count": null,
   "metadata": {},
   "outputs": [],
   "source": []
  },
  {
   "cell_type": "code",
   "execution_count": null,
   "metadata": {},
   "outputs": [],
   "source": []
  },
  {
   "cell_type": "code",
   "execution_count": 144,
   "metadata": {},
   "outputs": [],
   "source": [
    "def prediction_visualization(y_pred,y_test):\n",
    "    confusion_Matrix = confusion_matrix(y_test,y_pred)\n",
    "    sns.heatmap(confusion_Matrix,fmt = '0.2f',annot = True)\n",
    "    l_loss = log_loss(y_test,y_pred)\n",
    "    accuracy = accuracy_score(y_test,y_pred)\n",
    "    print('Log Loss- ',l_loss)\n",
    "    print('Accuracy- ',accuracy)\n",
    "    result = {}\n",
    "    result['log loss'] = l_loss\n",
    "    result['accuracy'] = accuracy\n",
    "    return(result)"
   ]
  },
  {
   "cell_type": "code",
   "execution_count": null,
   "metadata": {},
   "outputs": [],
   "source": []
  },
  {
   "cell_type": "markdown",
   "metadata": {},
   "source": [
    "# Logistic Regression\n",
    "\n",
    "   Here we used logistic regression using sklearn and used GridSearchCV for best parameters "
   ]
  },
  {
   "cell_type": "code",
   "execution_count": 82,
   "metadata": {
    "scrolled": true
   },
   "outputs": [
    {
     "name": "stderr",
     "output_type": "stream",
     "text": [
      "[Parallel(n_jobs=6)]: Using backend LokyBackend with 6 concurrent workers.\n",
      "[Parallel(n_jobs=6)]: Done   1 out of   1 | elapsed:  1.5min finished\n",
      "[Parallel(n_jobs=6)]: Using backend LokyBackend with 6 concurrent workers.\n",
      "[Parallel(n_jobs=6)]: Done   1 out of   1 | elapsed:  1.1min finished\n",
      "[Parallel(n_jobs=6)]: Using backend LokyBackend with 6 concurrent workers.\n",
      "[Parallel(n_jobs=6)]: Done   1 out of   1 | elapsed:  2.0min finished\n",
      "[Parallel(n_jobs=6)]: Using backend LokyBackend with 6 concurrent workers.\n",
      "[Parallel(n_jobs=6)]: Done   1 out of   1 | elapsed:  2.7min finished\n",
      "[Parallel(n_jobs=6)]: Using backend LokyBackend with 6 concurrent workers.\n",
      "[Parallel(n_jobs=6)]: Done   1 out of   1 | elapsed:  1.1min finished\n",
      "[Parallel(n_jobs=6)]: Using backend LokyBackend with 6 concurrent workers.\n",
      "[Parallel(n_jobs=6)]: Done   1 out of   1 | elapsed:  3.6min finished\n",
      "[Parallel(n_jobs=6)]: Using backend LokyBackend with 6 concurrent workers.\n",
      "[Parallel(n_jobs=6)]: Done   1 out of   1 | elapsed:  1.2min finished\n",
      "[Parallel(n_jobs=6)]: Using backend LokyBackend with 6 concurrent workers.\n",
      "[Parallel(n_jobs=6)]: Done   1 out of   1 | elapsed:  2.7min finished\n",
      "[Parallel(n_jobs=6)]: Using backend LokyBackend with 6 concurrent workers.\n",
      "[Parallel(n_jobs=6)]: Done   1 out of   1 | elapsed:  2.6min finished\n",
      "[Parallel(n_jobs=6)]: Using backend LokyBackend with 6 concurrent workers.\n",
      "[Parallel(n_jobs=6)]: Done   1 out of   1 | elapsed:  1.1min finished\n",
      "[Parallel(n_jobs=6)]: Using backend LokyBackend with 6 concurrent workers.\n",
      "[Parallel(n_jobs=6)]: Done   1 out of   1 | elapsed:  1.6min finished\n",
      "[Parallel(n_jobs=6)]: Using backend LokyBackend with 6 concurrent workers.\n",
      "[Parallel(n_jobs=6)]: Done   1 out of   1 | elapsed:   40.9s finished\n",
      "[Parallel(n_jobs=6)]: Using backend LokyBackend with 6 concurrent workers.\n",
      "[Parallel(n_jobs=6)]: Done   1 out of   1 | elapsed:   40.7s finished\n",
      "[Parallel(n_jobs=6)]: Using backend LokyBackend with 6 concurrent workers.\n",
      "[Parallel(n_jobs=6)]: Done   1 out of   1 | elapsed:  7.8min finished\n",
      "[Parallel(n_jobs=6)]: Using backend LokyBackend with 6 concurrent workers.\n",
      "[Parallel(n_jobs=6)]: Done   1 out of   1 | elapsed:   42.6s finished\n",
      "[Parallel(n_jobs=6)]: Using backend LokyBackend with 6 concurrent workers.\n",
      "[Parallel(n_jobs=6)]: Done   1 out of   1 | elapsed:  3.6min finished\n",
      "[Parallel(n_jobs=6)]: Using backend LokyBackend with 6 concurrent workers.\n",
      "[Parallel(n_jobs=6)]: Done   1 out of   1 | elapsed:   40.5s finished\n",
      "[Parallel(n_jobs=6)]: Using backend LokyBackend with 6 concurrent workers.\n",
      "[Parallel(n_jobs=6)]: Done   1 out of   1 | elapsed:   39.6s finished\n",
      "[Parallel(n_jobs=6)]: Using backend LokyBackend with 6 concurrent workers.\n",
      "[Parallel(n_jobs=6)]: Done   1 out of   1 | elapsed:  5.7min finished\n",
      "[Parallel(n_jobs=6)]: Using backend LokyBackend with 6 concurrent workers.\n",
      "[Parallel(n_jobs=6)]: Done   1 out of   1 | elapsed:   39.4s finished\n",
      "[Parallel(n_jobs=6)]: Using backend LokyBackend with 6 concurrent workers.\n",
      "[Parallel(n_jobs=6)]: Done   1 out of   1 | elapsed:  1.4min finished\n",
      "[Parallel(n_jobs=6)]: Using backend LokyBackend with 6 concurrent workers.\n",
      "[Parallel(n_jobs=6)]: Done   1 out of   1 | elapsed:  1.0min finished\n",
      "[Parallel(n_jobs=6)]: Using backend LokyBackend with 6 concurrent workers.\n",
      "[Parallel(n_jobs=6)]: Done   1 out of   1 | elapsed:  3.9min finished\n",
      "[Parallel(n_jobs=6)]: Using backend LokyBackend with 6 concurrent workers.\n",
      "[Parallel(n_jobs=6)]: Done   1 out of   1 | elapsed:  2.1min finished\n",
      "[Parallel(n_jobs=6)]: Using backend LokyBackend with 6 concurrent workers.\n",
      "[Parallel(n_jobs=6)]: Done   1 out of   1 | elapsed:   56.2s finished\n",
      "[Parallel(n_jobs=6)]: Using backend LokyBackend with 6 concurrent workers.\n",
      "[Parallel(n_jobs=6)]: Done   1 out of   1 | elapsed:  3.4min finished\n",
      "[Parallel(n_jobs=6)]: Using backend LokyBackend with 6 concurrent workers.\n",
      "[Parallel(n_jobs=6)]: Done   1 out of   1 | elapsed:   59.8s finished\n",
      "[Parallel(n_jobs=6)]: Using backend LokyBackend with 6 concurrent workers.\n",
      "[Parallel(n_jobs=6)]: Done   1 out of   1 | elapsed:  4.0min finished\n",
      "[Parallel(n_jobs=6)]: Using backend LokyBackend with 6 concurrent workers.\n",
      "[Parallel(n_jobs=6)]: Done   1 out of   1 | elapsed:  2.4min finished\n",
      "[Parallel(n_jobs=6)]: Using backend LokyBackend with 6 concurrent workers.\n",
      "[Parallel(n_jobs=6)]: Done   1 out of   1 | elapsed:   56.2s finished\n",
      "[Parallel(n_jobs=6)]: Using backend LokyBackend with 6 concurrent workers.\n",
      "[Parallel(n_jobs=6)]: Done   1 out of   1 | elapsed:  1.7min finished\n",
      "[Parallel(n_jobs=6)]: Using backend LokyBackend with 6 concurrent workers.\n",
      "[Parallel(n_jobs=6)]: Done   1 out of   1 | elapsed:   39.3s finished\n",
      "[Parallel(n_jobs=6)]: Using backend LokyBackend with 6 concurrent workers.\n",
      "[Parallel(n_jobs=6)]: Done   1 out of   1 | elapsed:   40.9s finished\n",
      "[Parallel(n_jobs=6)]: Using backend LokyBackend with 6 concurrent workers.\n",
      "[Parallel(n_jobs=6)]: Done   1 out of   1 | elapsed:  2.7min finished\n",
      "[Parallel(n_jobs=6)]: Using backend LokyBackend with 6 concurrent workers.\n",
      "[Parallel(n_jobs=6)]: Done   1 out of   1 | elapsed:   39.4s finished\n",
      "[Parallel(n_jobs=6)]: Using backend LokyBackend with 6 concurrent workers.\n",
      "[Parallel(n_jobs=6)]: Done   1 out of   1 | elapsed:  2.2min finished\n",
      "[Parallel(n_jobs=6)]: Using backend LokyBackend with 6 concurrent workers.\n",
      "[Parallel(n_jobs=6)]: Done   1 out of   1 | elapsed:   39.8s finished\n",
      "[Parallel(n_jobs=6)]: Using backend LokyBackend with 6 concurrent workers.\n",
      "[Parallel(n_jobs=6)]: Done   1 out of   1 | elapsed:   40.0s finished\n",
      "[Parallel(n_jobs=6)]: Using backend LokyBackend with 6 concurrent workers.\n",
      "[Parallel(n_jobs=6)]: Done   1 out of   1 | elapsed:  2.7min finished\n",
      "[Parallel(n_jobs=6)]: Using backend LokyBackend with 6 concurrent workers.\n",
      "[Parallel(n_jobs=6)]: Done   1 out of   1 | elapsed:   40.3s finished\n",
      "[Parallel(n_jobs=6)]: Using backend LokyBackend with 6 concurrent workers.\n",
      "[Parallel(n_jobs=6)]: Done   1 out of   1 | elapsed:   50.9s finished\n"
     ]
    }
   ],
   "source": [
    "log_reg = LogisticRegression(max_iter=1000,verbose = True,n_jobs = 6,class_weight = 'balanced')\n",
    "parameters = {'penalty':['l2'],'C':[1,10], 'fit_intercept':(True,False), 'class_weight':('balanced',None)}\n",
    "clf = GridSearchCV(log_reg,parameters)\n",
    "clf.fit(x_train,y_train)\n",
    "y_pred = clf.predict(x_test)"
   ]
  },
  {
   "cell_type": "code",
   "execution_count": 83,
   "metadata": {},
   "outputs": [
    {
     "data": {
      "text/plain": [
       "array([0, 0, 1, ..., 1, 1, 1], dtype=int64)"
      ]
     },
     "execution_count": 83,
     "metadata": {},
     "output_type": "execute_result"
    }
   ],
   "source": [
    "y_pred"
   ]
  },
  {
   "cell_type": "code",
   "execution_count": 84,
   "metadata": {},
   "outputs": [
    {
     "name": "stdout",
     "output_type": "stream",
     "text": [
      "Log Loss-  9.856522583428724\n",
      "Accuracy-  0.714627288992225\n"
     ]
    },
    {
     "data": {
      "image/png": "[encoded data removed]",
      "text/plain": [
       "<Figure size 432x288 with 2 Axes>"
      ]
     },
     "metadata": {
      "needs_background": "light"
     },
     "output_type": "display_data"
    }
   ],
   "source": [
    "res = prediction_visualization(y_pred,y_test)"
   ]
  },
  {
   "cell_type": "code",
   "execution_count": 85,
   "metadata": {},
   "outputs": [
    {
     "data": {
      "text/plain": [
       "{'log loss': 9.856522583428724, 'accuracy': 0.714627288992225}"
      ]
     },
     "execution_count": 85,
     "metadata": {},
     "output_type": "execute_result"
    }
   ],
   "source": [
    "res"
   ]
  },
  {
   "cell_type": "code",
   "execution_count": 26,
   "metadata": {
    "scrolled": true
   },
   "outputs": [
    {
     "name": "stderr",
     "output_type": "stream",
     "text": [
      " 14%|█▍        | 1/7 [11:09<1:06:58, 669.73s/it]"
     ]
    },
    {
     "name": "stdout",
     "output_type": "stream",
     "text": [
      "For values of alpha =  1e-05 The log loss is: 0.6585278257455169\n"
     ]
    },
    {
     "name": "stderr",
     "output_type": "stream",
     "text": [
      "\r",
      " 29%|██▊       | 2/7 [22:56<57:37, 691.58s/it]  "
     ]
    },
    {
     "name": "stdout",
     "output_type": "stream",
     "text": [
      "For values of alpha =  0.0001 The log loss is: 0.6585278257455169\n"
     ]
    },
    {
     "name": "stderr",
     "output_type": "stream",
     "text": [
      "\r",
      " 43%|████▎     | 3/7 [34:50<46:47, 701.91s/it]"
     ]
    },
    {
     "name": "stdout",
     "output_type": "stream",
     "text": [
      "For values of alpha =  0.001 The log loss is: 0.6585278257455169\n"
     ]
    },
    {
     "name": "stderr",
     "output_type": "stream",
     "text": [
      "\r",
      " 57%|█████▋    | 4/7 [45:12<33:31, 670.43s/it]"
     ]
    },
    {
     "name": "stdout",
     "output_type": "stream",
     "text": [
      "For values of alpha =  0.01 The log loss is: 0.6585278257455169\n"
     ]
    },
    {
     "name": "stderr",
     "output_type": "stream",
     "text": [
      "\r",
      " 71%|███████▏  | 5/7 [56:26<22:23, 671.70s/it]"
     ]
    },
    {
     "name": "stdout",
     "output_type": "stream",
     "text": [
      "For values of alpha =  0.1 The log loss is: 0.5981053480120426\n"
     ]
    },
    {
     "name": "stderr",
     "output_type": "stream",
     "text": [
      "\r",
      " 86%|████████▌ | 6/7 [1:08:38<11:32, 692.21s/it]"
     ]
    },
    {
     "name": "stdout",
     "output_type": "stream",
     "text": [
      "For values of alpha =  1 The log loss is: 0.564795485404773\n"
     ]
    },
    {
     "name": "stderr",
     "output_type": "stream",
     "text": [
      "100%|██████████| 7/7 [1:21:59<00:00, 702.77s/it]"
     ]
    },
    {
     "name": "stdout",
     "output_type": "stream",
     "text": [
      "For values of alpha =  10 The log loss is: 0.5853981814484218\n"
     ]
    },
    {
     "name": "stderr",
     "output_type": "stream",
     "text": [
      "\n"
     ]
    },
    {
     "ename": "NameError",
     "evalue": "name 'plt' is not defined",
     "output_type": "error",
     "traceback": [
      "\u001b[1;31m---------------------------------------------------------------------------\u001b[0m",
      "\u001b[1;31mNameError\u001b[0m                                 Traceback (most recent call last)",
      "\u001b[1;32m~\\AppData\\Local\\Temp/ipykernel_11424/1740759568.py\u001b[0m in \u001b[0;36m<module>\u001b[1;34m\u001b[0m\n\u001b[0;32m     27\u001b[0m     \u001b[0mprint\u001b[0m\u001b[1;33m(\u001b[0m\u001b[1;34m'For values of alpha = '\u001b[0m\u001b[1;33m,\u001b[0m \u001b[0mi\u001b[0m\u001b[1;33m,\u001b[0m \u001b[1;34m\"The log loss is:\"\u001b[0m\u001b[1;33m,\u001b[0m\u001b[0mlog_loss\u001b[0m\u001b[1;33m(\u001b[0m\u001b[0my_test\u001b[0m\u001b[1;33m,\u001b[0m \u001b[0mpredict_y\u001b[0m\u001b[1;33m,\u001b[0m \u001b[0mlabels\u001b[0m\u001b[1;33m=\u001b[0m\u001b[0mclf\u001b[0m\u001b[1;33m.\u001b[0m\u001b[0mclasses_\u001b[0m\u001b[1;33m,\u001b[0m \u001b[0meps\u001b[0m\u001b[1;33m=\u001b[0m\u001b[1;36m1e-15\u001b[0m\u001b[1;33m)\u001b[0m\u001b[1;33m)\u001b[0m\u001b[1;33m\u001b[0m\u001b[1;33m\u001b[0m\u001b[0m\n\u001b[0;32m     28\u001b[0m \u001b[1;33m\u001b[0m\u001b[0m\n\u001b[1;32m---> 29\u001b[1;33m \u001b[0mfig\u001b[0m\u001b[1;33m,\u001b[0m \u001b[0max\u001b[0m \u001b[1;33m=\u001b[0m \u001b[0mplt\u001b[0m\u001b[1;33m.\u001b[0m\u001b[0msubplots\u001b[0m\u001b[1;33m(\u001b[0m\u001b[1;33m)\u001b[0m\u001b[1;33m\u001b[0m\u001b[1;33m\u001b[0m\u001b[0m\n\u001b[0m\u001b[0;32m     30\u001b[0m \u001b[0max\u001b[0m\u001b[1;33m.\u001b[0m\u001b[0mplot\u001b[0m\u001b[1;33m(\u001b[0m\u001b[0malpha\u001b[0m\u001b[1;33m,\u001b[0m \u001b[0mlog_error_array\u001b[0m\u001b[1;33m,\u001b[0m\u001b[0mc\u001b[0m\u001b[1;33m=\u001b[0m\u001b[1;34m'g'\u001b[0m\u001b[1;33m)\u001b[0m\u001b[1;33m\u001b[0m\u001b[1;33m\u001b[0m\u001b[0m\n\u001b[0;32m     31\u001b[0m \u001b[1;32mfor\u001b[0m \u001b[0mi\u001b[0m\u001b[1;33m,\u001b[0m \u001b[0mtxt\u001b[0m \u001b[1;32min\u001b[0m \u001b[0menumerate\u001b[0m\u001b[1;33m(\u001b[0m\u001b[0mnp\u001b[0m\u001b[1;33m.\u001b[0m\u001b[0mround\u001b[0m\u001b[1;33m(\u001b[0m\u001b[0mlog_error_array\u001b[0m\u001b[1;33m,\u001b[0m\u001b[1;36m3\u001b[0m\u001b[1;33m)\u001b[0m\u001b[1;33m)\u001b[0m\u001b[1;33m:\u001b[0m\u001b[1;33m\u001b[0m\u001b[1;33m\u001b[0m\u001b[0m\n",
      "\u001b[1;31mNameError\u001b[0m: name 'plt' is not defined"
     ]
    }
   ],
   "source": [
    "alpha = [10 ** x for x in range(-5, 2)] # hyperparam for SGD classifier.\n",
    "\n",
    "log_error_array=[]\n",
    "for i in tqdm(alpha):\n",
    "    clf = SGDClassifier(alpha=i, penalty='l2', loss='log', random_state=42)\n",
    "    clf.fit(x_train, y_train)\n",
    "    sig_clf = CalibratedClassifierCV(clf, method=\"sigmoid\")\n",
    "    sig_clf.fit(x_train, y_train)\n",
    "    predict_y = sig_clf.predict_proba(x_test)\n",
    "    log_error_array.append(log_loss(y_test, predict_y, labels=clf.classes_, eps=1e-15))\n",
    "    print('For values of alpha = ', i, \"The log loss is:\",log_loss(y_test, predict_y, labels=clf.classes_, eps=1e-15))\n",
    "\n"
   ]
  },
  {
   "cell_type": "markdown",
   "metadata": {},
   "source": [
    " Log Loss is minimum for alpha = 1\n",
    " in logistic regression"
   ]
  },
  {
   "cell_type": "code",
   "execution_count": 39,
   "metadata": {},
   "outputs": [
    {
     "data": {
      "image/png": "[encoded data removed]",
      "text/plain": [
       "<Figure size 432x288 with 1 Axes>"
      ]
     },
     "metadata": {
      "needs_background": "light"
     },
     "output_type": "display_data"
    },
    {
     "name": "stdout",
     "output_type": "stream",
     "text": [
      "For values of best alpha =  1 The train log loss is: 0.5651866003415055\n",
      "For values of best alpha =  1 The test log loss is: 0.564795485404773\n",
      "Total number of data points : 121287\n"
     ]
    }
   ],
   "source": [
    "fig, ax = plt.subplots()\n",
    "ax.plot(alpha, log_error_array,c='g')\n",
    "for i, txt in enumerate(np.round(log_error_array,3)):\n",
    "    ax.annotate((alpha[i],np.round(txt,3)), (alpha[i],log_error_array[i]))\n",
    "plt.grid()\n",
    "plt.title(\"Cross Validation Error for each alpha\")\n",
    "plt.xlabel(\"Alpha i's\")\n",
    "plt.ylabel(\"Error measure\")\n",
    "plt.show()\n",
    "\n",
    "\n",
    "best_alpha = np.argmin(log_error_array)\n",
    "clf = SGDClassifier(alpha=alpha[best_alpha], penalty='l2', loss='log', random_state=42)\n",
    "clf.fit(x_train, y_train)\n",
    "sig_clf = CalibratedClassifierCV(clf, method=\"sigmoid\")\n",
    "sig_clf.fit(x_train, y_train)\n",
    "\n",
    "predict_y = sig_clf.predict_proba(x_train)\n",
    "print('For values of best alpha = ', alpha[best_alpha], \"The train log loss is:\",log_loss(y_train, predict_y, labels=clf.classes_, eps=1e-15))\n",
    "predict_y = sig_clf.predict_proba(x_test)\n",
    "print('For values of best alpha = ', alpha[best_alpha], \"The test log loss is:\",log_loss(y_test, predict_y, labels=clf.classes_, eps=1e-15))\n",
    "predicted_y =np.argmax(predict_y,axis=1)\n",
    "print(\"Total number of data points :\", len(predicted_y))\n"
   ]
  },
  {
   "cell_type": "code",
   "execution_count": 30,
   "metadata": {
    "scrolled": true
   },
   "outputs": [
    {
     "name": "stdout",
     "output_type": "stream",
     "text": [
      "Log Loss-  9.666070968654424\n",
      "Accuracy-  0.7201431315804662\n"
     ]
    },
    {
     "data": {
      "text/plain": [
       "{'log loss': 9.666070968654424, 'accuracy': 0.7201431315804662}"
      ]
     },
     "execution_count": 30,
     "metadata": {},
     "output_type": "execute_result"
    },
    {
     "data": {
      "image/png": "[encoded data removed]",
      "text/plain": [
       "<Figure size 432x288 with 2 Axes>"
      ]
     },
     "metadata": {
      "needs_background": "light"
     },
     "output_type": "display_data"
    }
   ],
   "source": [
    "prediction_visualization(y_test, predicted_y)"
   ]
  },
  {
   "cell_type": "markdown",
   "metadata": {},
   "source": [
    "for alpha = 1 log loss is minimum"
   ]
  },
  {
   "cell_type": "code",
   "execution_count": null,
   "metadata": {},
   "outputs": [],
   "source": []
  },
  {
   "cell_type": "markdown",
   "metadata": {},
   "source": [
    "\n",
    "# XGBoost\n"
   ]
  },
  {
   "cell_type": "code",
   "execution_count": 57,
   "metadata": {},
   "outputs": [
    {
     "name": "stderr",
     "output_type": "stream",
     "text": [
      "C:\\Users\\Aakash\\anaconda3\\envs\\GPU\\lib\\site-packages\\xgboost\\core.py:525: FutureWarning: Pass `evals` as keyword args.  Passing these as positional arguments will be considered as error in future releases.\n",
      "  warnings.warn(\n"
     ]
    },
    {
     "name": "stdout",
     "output_type": "stream",
     "text": [
      "[0]\ttrain-logloss:0.68694\tvalid-logloss:0.68695\n",
      "[10]\ttrain-logloss:0.63600\tvalid-logloss:0.63620\n",
      "[20]\ttrain-logloss:0.59901\tvalid-logloss:0.59937\n",
      "[30]\ttrain-logloss:0.57147\tvalid-logloss:0.57202\n",
      "[40]\ttrain-logloss:0.55017\tvalid-logloss:0.55094\n",
      "[50]\ttrain-logloss:0.53330\tvalid-logloss:0.53434\n",
      "[60]\ttrain-logloss:0.51990\tvalid-logloss:0.52111\n",
      "[70]\ttrain-logloss:0.50921\tvalid-logloss:0.51053\n",
      "[80]\ttrain-logloss:0.50044\tvalid-logloss:0.50185\n",
      "[90]\ttrain-logloss:0.49326\tvalid-logloss:0.49477\n",
      "[100]\ttrain-logloss:0.48717\tvalid-logloss:0.48876\n",
      "[110]\ttrain-logloss:0.48200\tvalid-logloss:0.48373\n",
      "[120]\ttrain-logloss:0.47734\tvalid-logloss:0.47920\n",
      "[130]\ttrain-logloss:0.47323\tvalid-logloss:0.47517\n",
      "[140]\ttrain-logloss:0.46973\tvalid-logloss:0.47173\n",
      "[150]\ttrain-logloss:0.46666\tvalid-logloss:0.46874\n",
      "[160]\ttrain-logloss:0.46386\tvalid-logloss:0.46602\n",
      "[170]\ttrain-logloss:0.46154\tvalid-logloss:0.46378\n",
      "[180]\ttrain-logloss:0.45928\tvalid-logloss:0.46158\n",
      "[190]\ttrain-logloss:0.45722\tvalid-logloss:0.45959\n",
      "[200]\ttrain-logloss:0.45559\tvalid-logloss:0.45805\n",
      "[210]\ttrain-logloss:0.45382\tvalid-logloss:0.45637\n",
      "[220]\ttrain-logloss:0.45209\tvalid-logloss:0.45474\n",
      "[230]\ttrain-logloss:0.45059\tvalid-logloss:0.45332\n",
      "[240]\ttrain-logloss:0.44930\tvalid-logloss:0.45210\n",
      "[250]\ttrain-logloss:0.44810\tvalid-logloss:0.45096\n",
      "[260]\ttrain-logloss:0.44705\tvalid-logloss:0.45002\n",
      "[270]\ttrain-logloss:0.44604\tvalid-logloss:0.44910\n",
      "[280]\ttrain-logloss:0.44505\tvalid-logloss:0.44819\n",
      "[290]\ttrain-logloss:0.44417\tvalid-logloss:0.44740\n",
      "[300]\ttrain-logloss:0.44334\tvalid-logloss:0.44665\n",
      "[310]\ttrain-logloss:0.44253\tvalid-logloss:0.44595\n",
      "[320]\ttrain-logloss:0.44172\tvalid-logloss:0.44524\n",
      "[330]\ttrain-logloss:0.44103\tvalid-logloss:0.44464\n",
      "[340]\ttrain-logloss:0.44038\tvalid-logloss:0.44410\n",
      "[350]\ttrain-logloss:0.43967\tvalid-logloss:0.44349\n",
      "[360]\ttrain-logloss:0.43900\tvalid-logloss:0.44293\n",
      "[370]\ttrain-logloss:0.43833\tvalid-logloss:0.44235\n",
      "[380]\ttrain-logloss:0.43771\tvalid-logloss:0.44184\n",
      "[390]\ttrain-logloss:0.43710\tvalid-logloss:0.44132\n",
      "[399]\ttrain-logloss:0.43651\tvalid-logloss:0.44081\n",
      "The test log loss is: 0.4408081786956799\n"
     ]
    }
   ],
   "source": [
    "import xgboost as xgb\n",
    "params = {}\n",
    "params['objective'] = 'binary:logistic'\n",
    "params['eval_metric'] = 'logloss'\n",
    "params['eta'] = 0.02\n",
    "params['max_depth'] = 4\n",
    "\n",
    "d_train = xgb.DMatrix(x_train, label=y_train)\n",
    "d_test = xgb.DMatrix(x_test, label=y_test)\n",
    "\n",
    "watchlist = [(d_train, 'train'), (d_test, 'valid')]\n",
    "\n",
    "bst = xgb.train(params, d_train, 400, watchlist, early_stopping_rounds=20, verbose_eval=10)\n",
    "\n",
    "xgdmat = xgb.DMatrix(x_train,y_train)\n",
    "predict_y = bst.predict(d_test)\n",
    "print(\"The test log loss is:\",log_loss(y_test, predict_y, labels=clf.classes_, eps=1e-15))"
   ]
  },
  {
   "cell_type": "code",
   "execution_count": 78,
   "metadata": {},
   "outputs": [
    {
     "name": "stdout",
     "output_type": "stream",
     "text": [
      "121287 121287\n"
     ]
    }
   ],
   "source": [
    "y_pred = np.round(predict_y)\n",
    "y_pred = y_pred.astype(int)\n",
    "print(len(y_pred),len(y_test))"
   ]
  },
  {
   "cell_type": "code",
   "execution_count": 79,
   "metadata": {},
   "outputs": [
    {
     "name": "stdout",
     "output_type": "stream",
     "text": [
      "Log Loss-  7.854299828307877\n",
      "Accuracy-  0.7725972280623645\n"
     ]
    },
    {
     "data": {
      "text/plain": [
       "{'log loss': 7.854299828307877, 'accuracy': 0.7725972280623645}"
      ]
     },
     "execution_count": 79,
     "metadata": {},
     "output_type": "execute_result"
    },
    {
     "data": {
      "image/png": "[encoded data removed]",
      "text/plain": [
       "<Figure size 432x288 with 2 Axes>"
      ]
     },
     "metadata": {
      "needs_background": "light"
     },
     "output_type": "display_data"
    }
   ],
   "source": [
    "prediction_visualization(y_pred,y_test)"
   ]
  },
  {
   "cell_type": "code",
   "execution_count": null,
   "metadata": {},
   "outputs": [],
   "source": []
  },
  {
   "cell_type": "markdown",
   "metadata": {},
   "source": [
    "# Naive Bayes "
   ]
  },
  {
   "cell_type": "code",
   "execution_count": 86,
   "metadata": {},
   "outputs": [
    {
     "data": {
      "text/plain": [
       "GaussianNB()"
      ]
     },
     "execution_count": 86,
     "metadata": {},
     "output_type": "execute_result"
    }
   ],
   "source": [
    "clf = GaussianNB()\n",
    "clf.fit(x_train,y_train)"
   ]
  },
  {
   "cell_type": "code",
   "execution_count": 87,
   "metadata": {},
   "outputs": [],
   "source": [
    "y_pred = clf.predict(x_test)"
   ]
  },
  {
   "cell_type": "code",
   "execution_count": 88,
   "metadata": {},
   "outputs": [
    {
     "data": {
      "text/plain": [
       "array([0, 1, 1, ..., 1, 1, 1], dtype=int64)"
      ]
     },
     "execution_count": 88,
     "metadata": {},
     "output_type": "execute_result"
    }
   ],
   "source": [
    "y_pred"
   ]
  },
  {
   "cell_type": "code",
   "execution_count": 89,
   "metadata": {},
   "outputs": [
    {
     "name": "stdout",
     "output_type": "stream",
     "text": [
      "Log Loss-  14.567076136276695\n",
      "Accuracy-  0.5782482871206313\n"
     ]
    },
    {
     "data": {
      "text/plain": [
       "{'log loss': 14.567076136276695, 'accuracy': 0.5782482871206313}"
      ]
     },
     "execution_count": 89,
     "metadata": {},
     "output_type": "execute_result"
    },
    {
     "data": {
      "image/png": "[encoded data removed]",
      "text/plain": [
       "<Figure size 432x288 with 2 Axes>"
      ]
     },
     "metadata": {
      "needs_background": "light"
     },
     "output_type": "display_data"
    }
   ],
   "source": [
    "prediction_visualization(y_pred,y_test)"
   ]
  },
  {
   "cell_type": "code",
   "execution_count": null,
   "metadata": {},
   "outputs": [],
   "source": []
  },
  {
   "cell_type": "markdown",
   "metadata": {},
   "source": [
    "\n",
    "# KNN classifier"
   ]
  },
  {
   "cell_type": "code",
   "execution_count": 94,
   "metadata": {},
   "outputs": [
    {
     "data": {
      "text/plain": [
       "KNeighborsClassifier(n_jobs=6, weights='distance')"
      ]
     },
     "execution_count": 94,
     "metadata": {},
     "output_type": "execute_result"
    }
   ],
   "source": [
    "knn = KNeighborsClassifier(n_neighbors=7,n_jobs = 6,weights = 'distance')\n",
    "knn.fit(x_train,y_train)"
   ]
  },
  {
   "cell_type": "code",
   "execution_count": 95,
   "metadata": {},
   "outputs": [],
   "source": [
    "y_pred = knn.predict(x_test)"
   ]
  },
  {
   "cell_type": "code",
   "execution_count": 96,
   "metadata": {},
   "outputs": [
    {
     "data": {
      "text/plain": [
       "array([0, 0, 1, ..., 0, 1, 0], dtype=int64)"
      ]
     },
     "execution_count": 96,
     "metadata": {},
     "output_type": "execute_result"
    }
   ],
   "source": [
    "y_pred"
   ]
  },
  {
   "cell_type": "code",
   "execution_count": 97,
   "metadata": {},
   "outputs": [
    {
     "name": "stdout",
     "output_type": "stream",
     "text": [
      "Log Loss-  10.556223149755436\n",
      "Accuracy-  0.6943695532085055\n"
     ]
    },
    {
     "data": {
      "text/plain": [
       "{'log loss': 10.556223149755436, 'accuracy': 0.6943695532085055}"
      ]
     },
     "execution_count": 97,
     "metadata": {},
     "output_type": "execute_result"
    },
    {
     "data": {
      "image/png": "[encoded data removed]",
      "text/plain": [
       "<Figure size 432x288 with 2 Axes>"
      ]
     },
     "metadata": {
      "needs_background": "light"
     },
     "output_type": "display_data"
    }
   ],
   "source": [
    "prediction_visualization(y_pred,y_test)"
   ]
  },
  {
   "cell_type": "code",
   "execution_count": null,
   "metadata": {},
   "outputs": [],
   "source": []
  },
  {
   "cell_type": "markdown",
   "metadata": {},
   "source": [
    "# Decision Tree classifier"
   ]
  },
  {
   "cell_type": "code",
   "execution_count": 133,
   "metadata": {},
   "outputs": [
    {
     "data": {
      "text/plain": [
       "DecisionTreeClassifier(class_weight='balanced')"
      ]
     },
     "execution_count": 133,
     "metadata": {},
     "output_type": "execute_result"
    }
   ],
   "source": [
    "clf_tree = DecisionTreeClassifier(class_weight = 'balanced',max_leaf_nodes = None)\n",
    "clf_tree.fit(x_train,y_train)"
   ]
  },
  {
   "cell_type": "code",
   "execution_count": 134,
   "metadata": {},
   "outputs": [],
   "source": [
    "y_pred = clf_tree.predict(x_test)"
   ]
  },
  {
   "cell_type": "code",
   "execution_count": 145,
   "metadata": {},
   "outputs": [
    {
     "name": "stdout",
     "output_type": "stream",
     "text": [
      "Log Loss-  9.383816161204676\n",
      "Accuracy-  0.7283138341289669\n"
     ]
    },
    {
     "data": {
      "text/plain": [
       "{'log loss': 9.383816161204676, 'accuracy': 0.7283138341289669}"
      ]
     },
     "execution_count": 145,
     "metadata": {},
     "output_type": "execute_result"
    },
    {
     "data": {
      "image/png": "[encoded data removed]",
      "text/plain": [
       "<Figure size 432x288 with 2 Axes>"
      ]
     },
     "metadata": {
      "needs_background": "light"
     },
     "output_type": "display_data"
    }
   ],
   "source": [
    "prediction_visualization(y_pred,y_test)"
   ]
  },
  {
   "cell_type": "code",
   "execution_count": null,
   "metadata": {},
   "outputs": [],
   "source": []
  }
 ],
 "metadata": {
  "kernelspec": {
   "display_name": "Python 3",
   "language": "python",
   "name": "python3"
  },
  "language_info": {
   "codemirror_mode": {
    "name": "ipython",
    "version": 3
   },
   "file_extension": ".py",
   "mimetype": "text/x-python",
   "name": "python",
   "nbconvert_exporter": "python",
   "pygments_lexer": "ipython3",
   "version": "3.8.5"
  }
 },
 "nbformat": 4,
 "nbformat_minor": 5
}
